{
  "cells": [
    {
      "cell_type": "markdown",
      "metadata": {
        "id": "view-in-github",
        "colab_type": "text"
      },
      "source": [
        "<a href=\"https://colab.research.google.com/github/k21academyuk/Agentic-AI/blob/main/Building_a_Vector_Database_with_FAISS.ipynb\" target=\"_parent\"><img src=\"https://colab.research.google.com/assets/colab-badge.svg\" alt=\"Open In Colab\"/></a>"
      ]
    },
    {
      "cell_type": "markdown",
      "metadata": {
        "id": "Qhpu4Tm7hM-V"
      },
      "source": [
        "# Lab: Building a Vector Database with FAISS for Nearest Neighbor Search\n",
        "\n",
        "In this hands-on lab, you will learn how to **build a high-performance vector database** using **FAISS** (Facebook AI Similarity Search) for performing nearest neighbor search. The lab will focus on a real-world *scenario:* a **job portal system** that matches candidates to job opportunities based on **semantic meaning**, rather than traditional keyword-based searches.\n",
        "\n",
        "The key idea is to generate **embeddings** — dense vector representations — of both job descriptions and candidate resumes using Hugging Face pre-trained models like **DistilBERT**. These embeddings capture the semantic context of the text, allowing for better job matching even when the wording varies.\n",
        "\n",
        "\n",
        "\n",
        "**DistilBERT** is a smaller, faster, and more efficient version of the popular **BERT** (Bidirectional Encoder Representations from Transformers) model. It was created using a technique called **knowledge distillation**, where a smaller model (the student) learns from a larger pre-trained model (the teacher, in this case, BERT).\n",
        "\n",
        "While **BERT** is a powerful transformer model known for its deep understanding of context in text, **DistilBERT** retains much of BERT's performance but with fewer parameters, making it **lighter** and **faster**.\n",
        "\n",
        "\n",
        "\n",
        "\n",
        "\n",
        "\n"
      ]
    },
    {
      "cell_type": "markdown",
      "metadata": {
        "id": "CsKGPJCciD0S"
      },
      "source": [
        "# 1. Install dependencies\n",
        "1.   To install the necessary dependencies, run the following command:\n",
        "\n"
      ]
    },
    {
      "cell_type": "code",
      "execution_count": null,
      "metadata": {
        "colab": {
          "base_uri": "https://localhost:8080/"
        },
        "id": "TuHs3LSTiA-R",
        "outputId": "3267ac7b-991f-4590-dd38-1a8a139495bb"
      },
      "outputs": [
        {
          "name": "stdout",
          "output_type": "stream",
          "text": [
            "Collecting faiss-cpu\n",
            "  Downloading faiss_cpu-1.11.0.post1-cp311-cp311-manylinux_2_27_x86_64.manylinux_2_28_x86_64.whl.metadata (5.0 kB)\n",
            "Requirement already satisfied: transformers in /usr/local/lib/python3.11/dist-packages (4.53.2)\n",
            "Requirement already satisfied: numpy in /usr/local/lib/python3.11/dist-packages (2.0.2)\n",
            "Requirement already satisfied: packaging in /usr/local/lib/python3.11/dist-packages (from faiss-cpu) (25.0)\n",
            "Requirement already satisfied: filelock in /usr/local/lib/python3.11/dist-packages (from transformers) (3.18.0)\n",
            "Requirement already satisfied: huggingface-hub<1.0,>=0.30.0 in /usr/local/lib/python3.11/dist-packages (from transformers) (0.33.4)\n",
            "Requirement already satisfied: pyyaml>=5.1 in /usr/local/lib/python3.11/dist-packages (from transformers) (6.0.2)\n",
            "Requirement already satisfied: regex!=2019.12.17 in /usr/local/lib/python3.11/dist-packages (from transformers) (2024.11.6)\n",
            "Requirement already satisfied: requests in /usr/local/lib/python3.11/dist-packages (from transformers) (2.32.3)\n",
            "Requirement already satisfied: tokenizers<0.22,>=0.21 in /usr/local/lib/python3.11/dist-packages (from transformers) (0.21.2)\n",
            "Requirement already satisfied: safetensors>=0.4.3 in /usr/local/lib/python3.11/dist-packages (from transformers) (0.5.3)\n",
            "Requirement already satisfied: tqdm>=4.27 in /usr/local/lib/python3.11/dist-packages (from transformers) (4.67.1)\n",
            "Requirement already satisfied: fsspec>=2023.5.0 in /usr/local/lib/python3.11/dist-packages (from huggingface-hub<1.0,>=0.30.0->transformers) (2025.7.0)\n",
            "Requirement already satisfied: typing-extensions>=3.7.4.3 in /usr/local/lib/python3.11/dist-packages (from huggingface-hub<1.0,>=0.30.0->transformers) (4.14.1)\n",
            "Requirement already satisfied: hf-xet<2.0.0,>=1.1.2 in /usr/local/lib/python3.11/dist-packages (from huggingface-hub<1.0,>=0.30.0->transformers) (1.1.5)\n",
            "Requirement already satisfied: charset-normalizer<4,>=2 in /usr/local/lib/python3.11/dist-packages (from requests->transformers) (3.4.2)\n",
            "Requirement already satisfied: idna<4,>=2.5 in /usr/local/lib/python3.11/dist-packages (from requests->transformers) (3.10)\n",
            "Requirement already satisfied: urllib3<3,>=1.21.1 in /usr/local/lib/python3.11/dist-packages (from requests->transformers) (2.5.0)\n",
            "Requirement already satisfied: certifi>=2017.4.17 in /usr/local/lib/python3.11/dist-packages (from requests->transformers) (2025.7.14)\n",
            "Downloading faiss_cpu-1.11.0.post1-cp311-cp311-manylinux_2_27_x86_64.manylinux_2_28_x86_64.whl (31.3 MB)\n",
            "\u001b[2K   \u001b[90m━━━━━━━━━━━━━━━━━━━━━━━━━━━━━━━━━━━━━━━━\u001b[0m \u001b[32m31.3/31.3 MB\u001b[0m \u001b[31m78.1 MB/s\u001b[0m eta \u001b[36m0:00:00\u001b[0m\n",
            "\u001b[?25hInstalling collected packages: faiss-cpu\n",
            "Successfully installed faiss-cpu-1.11.0.post1\n"
          ]
        }
      ],
      "source": [
        "!pip install faiss-cpu transformers numpy"
      ]
    },
    {
      "cell_type": "markdown",
      "metadata": {
        "id": "_DJwVmyRidk2"
      },
      "source": [
        "2. The below command is used to **install the FAISS library for Python with CPU support.** This allows you to use Facebook AI Similarity Search (FAISS) to perform similarity search and clustering in high-dimensional spaces using your local CPU."
      ]
    },
    {
      "cell_type": "code",
      "execution_count": null,
      "metadata": {
        "colab": {
          "base_uri": "https://localhost:8080/"
        },
        "id": "wslT0WL1igZu",
        "outputId": "9aea8ab4-596c-44ca-b30e-90cd822c8dd1"
      },
      "outputs": [
        {
          "name": "stdout",
          "output_type": "stream",
          "text": [
            "Requirement already satisfied: faiss-cpu in /usr/local/lib/python3.11/dist-packages (1.11.0.post1)\n",
            "Requirement already satisfied: numpy<3.0,>=1.25.0 in /usr/local/lib/python3.11/dist-packages (from faiss-cpu) (2.0.2)\n",
            "Requirement already satisfied: packaging in /usr/local/lib/python3.11/dist-packages (from faiss-cpu) (25.0)\n"
          ]
        }
      ],
      "source": [
        "!pip install faiss-cpu"
      ]
    },
    {
      "cell_type": "markdown",
      "metadata": {
        "id": "_PH4jlC2ivDb"
      },
      "source": [
        "3. To build the vector search system, we need specific libraries like **FAISS, Hugging Face Transformers, and NumPy.** FAISS is used for vector search, Hugging Face provides pre-trained models for generating embeddings, and NumPy is essential for handling arrays and performing numerical operations.\n",
        "\n",
        "\n",
        "These libraries form the backbone of the system. They allow us to **generate embeddings**, **index them**, and search for similar items based on vector distance, which is the core functionality of this system.\n"
      ]
    },
    {
      "cell_type": "code",
      "execution_count": null,
      "metadata": {
        "id": "1fzhFgdWinQf"
      },
      "outputs": [],
      "source": [
        "import faiss\n",
        "import numpy as np\n",
        "from transformers import AutoTokenizer, AutoModel\n",
        "import torch  # For model inference"
      ]
    },
    {
      "cell_type": "markdown",
      "metadata": {
        "id": "d-IziziZi7dj"
      },
      "source": [
        "* **FAISS:** Handles similarity search and indexing of embeddings.\n",
        "\n",
        "* NumPy: Useful for matrix operations and data handling.\n",
        "\n",
        "\n",
        "* Hugging Face: For loading pre-trained models and tokenizing input text.\n",
        "\n",
        "\n",
        "* Torch: Required for PyTorch-based inference, as Hugging Face models use PyTorch."
      ]
    },
    {
      "cell_type": "markdown",
      "metadata": {
        "id": "IC4A4y_SjSvq"
      },
      "source": [
        "#  2. Load Pre-trained Hugging Face Model for Embeddings\n",
        "\n",
        "Transformers like **DistilBERT** are pre-trained models capable of converting text into fixed-size embeddings (dense vectors). These embeddings capture the **semantic meaning** of the text, allowing for more accurate matching beyond simple keyword comparison.\n",
        "\n",
        "\n",
        "1. This step is essential for converting the job descriptions and resumes into **numerical vectors** that can be compared for similarity. The embeddings generated here are stored and indexed using **FAISS to allow for fast similarity searches.**\n"
      ]
    },
    {
      "cell_type": "code",
      "execution_count": null,
      "metadata": {
        "colab": {
          "base_uri": "https://localhost:8080/",
          "height": 333,
          "referenced_widgets": [
            "25638907f2eb466a9a3600da83aac531",
            "c156be3175ac4d31a4f0add26c2910c5",
            "2c603fbb23504566a25a55b3143a0947",
            "c67084b8b1a74140ba8cf8f341cf6463",
            "079ecee6252947328629b3e918cacb4e",
            "2b5e07c89feb4d5c87790295e8307890",
            "91195a426329489eb12198d13ac98172",
            "c05fd2ea123d4ab8b09752fbdcabb52b",
            "0149da3088454a8eabb21ab9c0f40452",
            "8846dc604d754c759aad98f4eb23846c",
            "b5aa8790f1ef402a8ca00bc561ee11b9",
            "90045fef25264efc8c5346e812ef49ce",
            "7a51e79f48f943a49c5d206000832333",
            "9eff7ba6482c4aef9fc890d94950ab89",
            "979605167eb5409292941f7af6833f66",
            "efb6c22d05eb424b9590715ff520cc90",
            "56c56ae216c4461bac986c8ed9c7974e",
            "0b19e01e8a5542318cf266d0769856d8",
            "c83b19dc2e0441e6a55bb0bf8acff52f",
            "c3ceea94ef7d42768a52f8f318f071b4",
            "e197babe0c68463693907ead4b9f7b02",
            "f6355af14e9c4685a2764423f6ad104d",
            "fbf3f1752d694888845e3064b0623f39",
            "6f62230d5cde4b189e243ab263cef923",
            "4017791fdfcc41f1accfe3d606c0dc15",
            "87f96f8f1d19476e89e05a7deb8e3553",
            "6852b43bc3f84d84ad8c8e8c6038971d",
            "784277a8311b4ea1a66bcd94e93ab1db",
            "97a952dc75a04cc58c7a5673d48f24ef",
            "3c50f07f46484f8287829941b164455a",
            "137101e58eff405c90895893e2d696f0",
            "a6c3c70b7b674bf69b46b29c8920bd3e",
            "df273565111c47a1afcff37f4e8d6d04",
            "476ddb909d5e4e7bbc4b91b619358830",
            "77354eb2367e4df3ab5a1911e592b980",
            "ee8729ad850d4d4c824485c5188b2aeb",
            "98b716e6b3d54b448bc0fe7f593e9bd3",
            "022f310d5ebd439ea28aa1f12b45ffaf",
            "cee64317bbff4094b7b4b6438fe40a5e",
            "97e40e62c58e47dba35f9552acda85a2",
            "cdb6e613863a4d4b8b6ed1b889d2b268",
            "a31abf6a502d459fb210c687e755c0d6",
            "d8981cf09f0b40e1a1f746aa2a7049ee",
            "7e9060a77892479e9d81e045bc6c4cb2",
            "ae20b96908334b0ab1ac755ab2bbb3a0",
            "b49ec3868d9b4b36bca9a03079b8bae2",
            "f94e8ee24f684ed9a6996877a32faca1",
            "dccb836b7beb4efeba86dbadf06633c1",
            "a8faaadc42234f8ea3325116729803ac",
            "bf5566582b8041f4bd6d3f226dc3b808",
            "e15bdbf352c7438190c0d59b72d90c91",
            "c4f730f99d664c4a8db186aae87db164",
            "be05539bd07945608efd2d0789ba611e",
            "87a9c78bd5ca4449b34674bbeef81e4f",
            "5302ca2eb4394e08b7367e8afd558607",
            "b12e0be9b1b840658424e9173a40b77d",
            "e5210b39d04d45c08d52a99e57e1578c",
            "c236660bd218457da8acfb0892bfbf34",
            "e5768991a7d848cea9e687785e12d698",
            "54afe186f1d44d79b1e471f599f3f15d",
            "91172daade0f45af9fbadcb2a9d39e18",
            "49dddf1e75614bc49ba34bb8f17f9c06",
            "fe5bb9ea282742f5bd48dea60c9cbe7c",
            "e28cd3a9a9c54dfab27f015b6ac93448",
            "813c8ab9c27b4dd6ae27d0a652543477",
            "8a2f7db34ece476c84a1d0238ce1c487"
          ]
        },
        "id": "wAUeRXu7jZ0r",
        "outputId": "992411dc-3acc-4f5a-fe62-2012cfc17c1c"
      },
      "outputs": [
        {
          "name": "stderr",
          "output_type": "stream",
          "text": [
            "/usr/local/lib/python3.11/dist-packages/huggingface_hub/utils/_auth.py:94: UserWarning: \n",
            "The secret `HF_TOKEN` does not exist in your Colab secrets.\n",
            "To authenticate with the Hugging Face Hub, create a token in your settings tab (https://huggingface.co/settings/tokens), set it as secret in your Google Colab and restart your session.\n",
            "You will be able to reuse this secret in all of your notebooks.\n",
            "Please note that authentication is recommended but still optional to access public models or datasets.\n",
            "  warnings.warn(\n"
          ]
        },
        {
          "data": {
            "application/vnd.jupyter.widget-view+json": {
              "model_id": "25638907f2eb466a9a3600da83aac531",
              "version_major": 2,
              "version_minor": 0
            },
            "text/plain": [
              "tokenizer_config.json:   0%|          | 0.00/450 [00:00<?, ?B/s]"
            ]
          },
          "metadata": {},
          "output_type": "display_data"
        },
        {
          "data": {
            "application/vnd.jupyter.widget-view+json": {
              "model_id": "90045fef25264efc8c5346e812ef49ce",
              "version_major": 2,
              "version_minor": 0
            },
            "text/plain": [
              "config.json:   0%|          | 0.00/550 [00:00<?, ?B/s]"
            ]
          },
          "metadata": {},
          "output_type": "display_data"
        },
        {
          "data": {
            "application/vnd.jupyter.widget-view+json": {
              "model_id": "fbf3f1752d694888845e3064b0623f39",
              "version_major": 2,
              "version_minor": 0
            },
            "text/plain": [
              "vocab.txt: 0.00B [00:00, ?B/s]"
            ]
          },
          "metadata": {},
          "output_type": "display_data"
        },
        {
          "data": {
            "application/vnd.jupyter.widget-view+json": {
              "model_id": "476ddb909d5e4e7bbc4b91b619358830",
              "version_major": 2,
              "version_minor": 0
            },
            "text/plain": [
              "tokenizer.json: 0.00B [00:00, ?B/s]"
            ]
          },
          "metadata": {},
          "output_type": "display_data"
        },
        {
          "data": {
            "application/vnd.jupyter.widget-view+json": {
              "model_id": "ae20b96908334b0ab1ac755ab2bbb3a0",
              "version_major": 2,
              "version_minor": 0
            },
            "text/plain": [
              "special_tokens_map.json:   0%|          | 0.00/112 [00:00<?, ?B/s]"
            ]
          },
          "metadata": {},
          "output_type": "display_data"
        },
        {
          "data": {
            "application/vnd.jupyter.widget-view+json": {
              "model_id": "b12e0be9b1b840658424e9173a40b77d",
              "version_major": 2,
              "version_minor": 0
            },
            "text/plain": [
              "model.safetensors:   0%|          | 0.00/265M [00:00<?, ?B/s]"
            ]
          },
          "metadata": {},
          "output_type": "display_data"
        }
      ],
      "source": [
        "tokenizer = AutoTokenizer.from_pretrained(\"sentence-transformers/distilbert-base-nli-mean-tokens\")\n",
        "model = AutoModel.from_pretrained(\"sentence-transformers/distilbert-base-nli-mean-tokens\")"
      ]
    },
    {
      "cell_type": "markdown",
      "metadata": {
        "id": "F0CVMszCjivW"
      },
      "source": [
        "### **Explanation**\n",
        "\n",
        "* **AutoTokenizer:** Converts raw text into tokens.\n",
        "\n",
        "* **AutoModel:** Loads the pre-trained model that will generate embeddings for the input text."
      ]
    },
    {
      "cell_type": "markdown",
      "metadata": {
        "id": "yPunsL53Ccz4"
      },
      "source": [
        "The **embedding generation function** is responsible for taking input text (job descriptions or resumes) and converting it into a **high-dimensional vector.** This process involves **tokenizing the text** (splitting it into meaningful units) and feeding it into the pre-trained model to generate the vector.\n",
        "\n",
        "\n",
        "2. The embeddings generated in this step are used for similarity search in the FAISS database. They **provide a consistent numerical representation** of job descriptions and resumes, making it possible to search for similar text."
      ]
    },
    {
      "cell_type": "code",
      "execution_count": null,
      "metadata": {
        "id": "76yruc32jnYt"
      },
      "outputs": [],
      "source": [
        "def get_embeddings(texts):\n",
        "    # Tokenize the input texts\n",
        "    inputs = tokenizer(texts, padding=True, truncation=True, return_tensors=\"pt\")\n",
        "\n",
        "    # Generate embeddings using the pre-trained model\n",
        "    with torch.no_grad():  # Disable gradient calculation for inference\n",
        "        embeddings = model(**inputs).last_hidden_state.mean(dim=1)\n",
        "\n",
        "    return embeddings.numpy()"
      ]
    },
    {
      "cell_type": "markdown",
      "metadata": {
        "id": "NamGKseEjzB2"
      },
      "source": [
        "### **Explanation**\n",
        "\n",
        "* **Tokenization:** Converts raw text into tokens that the model can process.\n",
        "\n",
        "\n",
        "* **Model Inference:** The model generates embeddings (numerical representations) for each token, which are then averaged to create a fixed-size vector for each sentence."
      ]
    },
    {
      "cell_type": "markdown",
      "metadata": {
        "id": "uXMglHOsj5zc"
      },
      "source": [
        "# 3. Generate Embeddings for Job Descriptions and Resumes\n",
        "\n",
        "This step applies the embedding generation function to a set of job descriptions and candidate resumes to convert them into vectors. These vectors will then be used in the FAISS index for fast retrieval during similarity searches.\n",
        "\n",
        "\n",
        "This step creates the **actual dataset of vectors** that will be indexed in FAISS. It ensures that each job description and resume has a **corresponding embedding,** which is crucial for querying and finding the best matches later.\n"
      ]
    },
    {
      "cell_type": "code",
      "execution_count": null,
      "metadata": {
        "colab": {
          "base_uri": "https://localhost:8080/"
        },
        "id": "Pz5gfPnVkGu8",
        "outputId": "5efd58f3-15ab-494c-df25-adfe4d8c137b"
      },
      "outputs": [
        {
          "name": "stdout",
          "output_type": "stream",
          "text": [
            "Generated Embeddings Shape for Job Descriptions: (3, 768)\n",
            "Generated Embeddings Shape for Candidate Resumes: (3, 768)\n"
          ]
        }
      ],
      "source": [
        "# Import necessary modules from Hugging Face\n",
        "from transformers import AutoTokenizer, AutoModel\n",
        "import torch  # PyTorch for model inference\n",
        "\n",
        "\n",
        "# Load pre-trained model and tokenizer\n",
        "tokenizer = AutoTokenizer.from_pretrained(\"sentence-transformers/distilbert-base-nli-mean-tokens\")\n",
        "model = AutoModel.from_pretrained(\"sentence-transformers/distilbert-base-nli-mean-tokens\")\n",
        "\n",
        "\n",
        "# Define the embedding generation function\n",
        "def get_embeddings(texts):\n",
        "    # Tokenize the input texts\n",
        "    inputs = tokenizer(texts, padding=True, truncation=True, return_tensors=\"pt\")\n",
        "\n",
        "    # Generate embeddings using the pre-trained model\n",
        "    with torch.no_grad():  # Disable gradient calculation for inference\n",
        "        embeddings = model(**inputs).last_hidden_state.mean(dim=1)\n",
        "\n",
        "    return embeddings.numpy()\n",
        "\n",
        "\n",
        "# Job descriptions and candidate resumes\n",
        "job_descriptions = [\n",
        "    \"Data Scientist position with expertise in Python, Machine Learning, and Data Analysis.\",\n",
        "    \"Software Engineer with experience in Java, cloud technologies, and software development.\",\n",
        "    \"Marketing Manager with experience in digital marketing, content strategy, and team leadership.\"\n",
        "]\n",
        "\n",
        "\n",
        "candidate_resumes = [\n",
        "    \"Experienced Data Scientist proficient in Python, Machine Learning, and Data Analysis.\",\n",
        "    \"Software Engineer with strong experience in Java, cloud platforms, and agile development.\",\n",
        "    \"Digital Marketing professional skilled in content creation, SEO, and social media strategies.\"\n",
        "]\n",
        "\n",
        "\n",
        "# Generate embeddings for job descriptions and candidate resumes\n",
        "job_embeddings = get_embeddings(job_descriptions)\n",
        "resume_embeddings = get_embeddings(candidate_resumes)\n",
        "\n",
        "\n",
        "# Print the shape of the generated embeddings\n",
        "print(\"Generated Embeddings Shape for Job Descriptions:\", job_embeddings.shape)\n",
        "print(\"Generated Embeddings Shape for Candidate Resumes:\", resume_embeddings.shape)"
      ]
    },
    {
      "cell_type": "markdown",
      "metadata": {
        "id": "dZaDZAaykOTJ"
      },
      "source": [
        "# 4. Build the FAISS Index\n",
        "This step allows us to **store all the embeddings** of job descriptions in a format that makes it possible to **quickly search** for the most similar resumes when a candidate uploads their resume.\n",
        "\n",
        "FAISS is used to index the embeddings, which allows for **fast nearest neighbor search**. The IndexFlatL2 index is created for exact searches, but more advanced indexing methods can be used for larger datasets to speed up searches."
      ]
    },
    {
      "cell_type": "markdown",
      "metadata": {
        "id": "TGY-PBtMOuJP"
      },
      "source": [
        "1.  Install FAISS (if not installed already), You should install FAISS using the following command:\n"
      ]
    },
    {
      "cell_type": "code",
      "execution_count": null,
      "metadata": {
        "colab": {
          "base_uri": "https://localhost:8080/"
        },
        "id": "ii0_Kr5NkbPG",
        "outputId": "220f3564-4109-47bc-e67a-8aea7442da06"
      },
      "outputs": [
        {
          "name": "stdout",
          "output_type": "stream",
          "text": [
            "Requirement already satisfied: faiss-cpu in /usr/local/lib/python3.11/dist-packages (1.11.0.post1)\n",
            "Requirement already satisfied: numpy<3.0,>=1.25.0 in /usr/local/lib/python3.11/dist-packages (from faiss-cpu) (2.0.2)\n",
            "Requirement already satisfied: packaging in /usr/local/lib/python3.11/dist-packages (from faiss-cpu) (25.0)\n"
          ]
        }
      ],
      "source": [
        "!pip install faiss-cpu"
      ]
    },
    {
      "cell_type": "markdown",
      "metadata": {
        "id": "AT_zvyguOwGx"
      },
      "source": [
        "2. Make sure to import FAISS at the beginning of your code:"
      ]
    },
    {
      "cell_type": "code",
      "execution_count": null,
      "metadata": {
        "id": "8bAM06LnkdUH"
      },
      "outputs": [],
      "source": [
        "import faiss"
      ]
    },
    {
      "cell_type": "markdown",
      "metadata": {
        "id": "fQeJ5jFpO0Z3"
      },
      "source": [
        "3. Create a FAISS index to store and search embeddings for job descriptions."
      ]
    },
    {
      "cell_type": "code",
      "execution_count": null,
      "metadata": {
        "colab": {
          "base_uri": "https://localhost:8080/"
        },
        "id": "3_Tab5z9kgnL",
        "outputId": "469657a2-8841-4226-8e68-15e6a7dcc2eb"
      },
      "outputs": [
        {
          "name": "stdout",
          "output_type": "stream",
          "text": [
            "Job embeddings have been added to the FAISS index.\n"
          ]
        }
      ],
      "source": [
        "# Import necessary modules\n",
        "import faiss\n",
        "import numpy as np\n",
        "from transformers import AutoTokenizer, AutoModel\n",
        "import torch\n",
        "\n",
        "\n",
        "# Load pre-trained model and tokenizer\n",
        "tokenizer = AutoTokenizer.from_pretrained(\"sentence-transformers/distilbert-base-nli-mean-tokens\")\n",
        "model = AutoModel.from_pretrained(\"sentence-transformers/distilbert-base-nli-mean-tokens\")\n",
        "\n",
        "\n",
        "# Define the embedding generation function\n",
        "def get_embeddings(texts):\n",
        "    # Tokenize the input texts\n",
        "    inputs = tokenizer(texts, padding=True, truncation=True, return_tensors=\"pt\")\n",
        "\n",
        "    # Generate embeddings using the pre-trained model\n",
        "    with torch.no_grad():  # Disable gradient calculation for inference\n",
        "        embeddings = model(**inputs).last_hidden_state.mean(dim=1)\n",
        "\n",
        "    return embeddings.numpy()\n",
        "\n",
        "\n",
        "# Job descriptions and candidate resumes\n",
        "job_descriptions = [\n",
        "    \"Data Scientist position with expertise in Python, Machine Learning, and Data Analysis.\",\n",
        "    \"Software Engineer with experience in Java, cloud technologies, and software development.\",\n",
        "    \"Marketing Manager with experience in digital marketing, content strategy, and team leadership.\"\n",
        "]\n",
        "\n",
        "\n",
        "candidate_resumes = [\n",
        "    \"Experienced Data Scientist proficient in Python, Machine Learning, and Data Analysis.\",\n",
        "    \"Software Engineer with strong experience in Java, cloud platforms, and agile development.\",\n",
        "    \"Digital Marketing professional skilled in content creation, SEO, and social media strategies.\"\n",
        "]\n",
        "\n",
        "\n",
        "# Generate embeddings for job descriptions and candidate resumes\n",
        "job_embeddings = get_embeddings(job_descriptions)\n",
        "resume_embeddings = get_embeddings(candidate_resumes)\n",
        "\n",
        "\n",
        "# FAISS: Create the index for job descriptions embeddings\n",
        "dimension = job_embeddings.shape[1]  # The dimension of the embeddings\n",
        "index = faiss.IndexFlatL2(dimension)  # Initialize FAISS index with L2 distance (Euclidean distance)\n",
        "\n",
        "\n",
        "# Add job embeddings to the FAISS index\n",
        "index.add(job_embeddings)\n",
        "\n",
        "\n",
        "print(\"Job embeddings have been added to the FAISS index.\")"
      ]
    },
    {
      "cell_type": "markdown",
      "metadata": {
        "id": "FzNrgVqnkrOW"
      },
      "source": [
        "### **Explanation**:\n",
        "\n",
        "* **IndexFlatL2:** A simple FAISS index that computes the Euclidean distance (L2 distance) for similarity.\n",
        "\n",
        "\n",
        "* **index.add():** Adds the job description embeddings to the FAISS index, making them searchable."
      ]
    },
    {
      "cell_type": "markdown",
      "metadata": {
        "id": "nDXI5wQfksej"
      },
      "source": [
        "# 5. Perform Nearest Neighbor Search\n",
        "\n",
        "The **nearest neighbor search** is the process of finding the most similar job descriptions to a candidates resume, based on their embeddings. FAISS compares the query (the resume) with the indexed job descriptions and returns the closest matches.\n",
        "\n",
        "This step ensures that when a new resume is uploaded or a job description is queried, the **system can quickly find the most relevant job descriptions or candidate resumes based on semantic similarity.**\n",
        "\n",
        "1. Now, perform a nearest neighbor search to match a candidate’s resume with the most relevant job description.\n",
        "\n",
        "2. Define the Query (Candidate Resume): Generate an embedding for the query (the resume).\n"
      ]
    },
    {
      "cell_type": "code",
      "execution_count": null,
      "metadata": {
        "colab": {
          "base_uri": "https://localhost:8080/"
        },
        "id": "BW1G-Bvvk61J",
        "outputId": "2ca3b759-1463-45eb-e13f-479c0908a2f7"
      },
      "outputs": [
        {
          "name": "stdout",
          "output_type": "stream",
          "text": [
            "Query Embedding Shape: (1, 768)\n"
          ]
        }
      ],
      "source": [
        "# Import necessary modules\n",
        "import faiss\n",
        "import numpy as np\n",
        "from transformers import AutoTokenizer, AutoModel\n",
        "import torch\n",
        "\n",
        "\n",
        "# Load pre-trained model and tokenizer\n",
        "tokenizer = AutoTokenizer.from_pretrained(\"sentence-transformers/distilbert-base-nli-mean-tokens\")\n",
        "model = AutoModel.from_pretrained(\"sentence-transformers/distilbert-base-nli-mean-tokens\")\n",
        "\n",
        "\n",
        "# Define the embedding generation function\n",
        "def get_embeddings(texts):\n",
        "    # Tokenize the input texts\n",
        "    inputs = tokenizer(texts, padding=True, truncation=True, return_tensors=\"pt\")\n",
        "\n",
        "    # Generate embeddings using the pre-trained model\n",
        "    with torch.no_grad():  # Disable gradient calculation for inference\n",
        "        embeddings = model(**inputs).last_hidden_state.mean(dim=1)\n",
        "\n",
        "    return embeddings.numpy()\n",
        "\n",
        "\n",
        "# Job descriptions and candidate resumes\n",
        "job_descriptions = [\n",
        "    \"Data Scientist position with expertise in Python, Machine Learning, and Data Analysis.\",\n",
        "    \"Software Engineer with experience in Java, cloud technologies, and software development.\",\n",
        "    \"Marketing Manager with experience in digital marketing, content strategy, and team leadership.\"\n",
        "]\n",
        "\n",
        "\n",
        "candidate_resumes = [\n",
        "    \"Experienced Data Scientist proficient in Python, Machine Learning, and Data Analysis.\",\n",
        "    \"Software Engineer with strong experience in Java, cloud platforms, and agile development.\",\n",
        "    \"Digital Marketing professional skilled in content creation, SEO, and social media strategies.\"\n",
        "]\n",
        "\n",
        "\n",
        "# Generate embeddings for job descriptions and candidate resumes\n",
        "job_embeddings = get_embeddings(job_descriptions)\n",
        "resume_embeddings = get_embeddings(candidate_resumes)\n",
        "\n",
        "\n",
        "# FAISS: Create the index for job descriptions embeddings\n",
        "dimension = job_embeddings.shape[1]  # The dimension of the embeddings\n",
        "index = faiss.IndexFlatL2(dimension)  # Initialize FAISS index with L2 distance (Euclidean distance)\n",
        "\n",
        "\n",
        "# Add job embeddings to the FAISS index\n",
        "index.add(job_embeddings)\n",
        "\n",
        "\n",
        "# Now, generate embedding for a query resume\n",
        "query_resume = [\"Experienced Data Scientist proficient in Python, Machine Learning, and Data Analysis.\"]\n",
        "query_embedding = get_embeddings(query_resume)\n",
        "\n",
        "\n",
        "# Print the shape of the generated query embedding\n",
        "print(\"Query Embedding Shape:\", query_embedding.shape)"
      ]
    },
    {
      "cell_type": "markdown",
      "metadata": {
        "id": "57WhSkt-PaGT"
      },
      "source": [
        "3. Search for Nearest Neighbors: Use FAISS to search for the top 3 closest matches to the query.\n"
      ]
    },
    {
      "cell_type": "code",
      "execution_count": null,
      "metadata": {
        "colab": {
          "base_uri": "https://localhost:8080/"
        },
        "id": "es6oFi8ylESr",
        "outputId": "0b95a69f-771d-431d-dde8-3543e920636a"
      },
      "outputs": [
        {
          "name": "stdout",
          "output_type": "stream",
          "text": [
            "Query Resume: Experienced Data Scientist proficient in Python, Machine Learning, and Data Analysis.\n",
            "Job 1: Data Scientist position with expertise in Python, Machine Learning, and Data Analysis. (Distance: 52.4818)\n",
            "Job 2: Software Engineer with experience in Java, cloud technologies, and software development. (Distance: 130.7507)\n",
            "Job 3: Marketing Manager with experience in digital marketing, content strategy, and team leadership. (Distance: 186.1873)\n"
          ]
        }
      ],
      "source": [
        "k = 3  # Number of nearest neighbors to retrieve\n",
        "distances, indices = index.search(query_embedding, k)\n",
        "\n",
        "\n",
        "# Display the results\n",
        "print(f\"Query Resume: {query_resume[0]}\")\n",
        "for i in range(k):\n",
        "    print(f\"Job {i+1}: {job_descriptions[indices[0][i]]} (Distance: {distances[0][i]:.4f})\")"
      ]
    },
    {
      "cell_type": "markdown",
      "metadata": {
        "id": "iDy19WYdlJAu"
      },
      "source": [
        "### **Explanation**\n",
        "\n",
        "* **index.search():** Finds the nearest neighbors of the query (candidate resume) in the FAISS index.\n",
        "\n",
        "\n",
        "* **distances:** The similarity score (lower values indicate more similarity).\n",
        "\n",
        "\n",
        "* **indices:** The indices of the most similar job descriptions from the original dataset."
      ]
    },
    {
      "cell_type": "markdown",
      "metadata": {
        "id": "JpuRZIgXlJ0A"
      },
      "source": [
        "# 6. Experiment with Advanced Index Types (Optional)\n",
        "\n",
        "For larger datasets, **advanced FAISS indexes** like **Inverted File Index (IVF)** or **HNSW (Hierarchical Navigable Small World)** can be used to speed up searches by approximating the nearest neighbors, rather than searching exhaustively.\n",
        "\n",
        "This step enhances the system’s ability to **handle large volumes** of data, ensuring that even with millions of job descriptions and resumes, the system remains responsive and efficient.\n"
      ]
    },
    {
      "cell_type": "code",
      "execution_count": null,
      "metadata": {
        "id": "jpiRRoEVlV3u"
      },
      "outputs": [],
      "source": [
        "# Create the coarse quantizer for IVF (Inverted File Index)\n",
        "quantizer = faiss.IndexFlatL2(dimension)  # This will use L2 distance (Euclidean distance)\n",
        "\n",
        "\n",
        "# Create the IVF index with the quantizer, dimension, and nlist\n",
        "nlist = 3  # Reduced the number of clusters\n",
        "index_ivf = faiss.IndexIVFFlat(quantizer, dimension, nlist)\n",
        "\n",
        "\n",
        "# Train the index with the job description embeddings\n",
        "index_ivf.train(job_embeddings)  # Training the index with embeddings\n",
        "\n",
        "\n",
        "# Add embeddings to the IVF index\n",
        "index_ivf.add(job_embeddings)  # Adding job embeddings to the IVF index\n"
      ]
    },
    {
      "cell_type": "markdown",
      "metadata": {
        "id": "9F6rkyu8lddt"
      },
      "source": [
        "# 7. Evaluate the Performance\n",
        "\n",
        "Evaluating the search performance measures how efficiently the system is returning the most relevant results. **By timing how long the system takes to find the nearest neighbors**, we can understand how well the system performs at scale.\n",
        "\n",
        "This step ensures that the job portal’s vector search system remains fast and responsive as more data is added, and helps **fine-tune indexing strategies** and **search algorithms** for optimal performance.\n",
        "\n",
        "Finally, measure the search time to evaluate the performance of the FAISS index and similarity search:\n"
      ]
    },
    {
      "cell_type": "code",
      "execution_count": null,
      "metadata": {
        "colab": {
          "base_uri": "https://localhost:8080/"
        },
        "id": "N9fbbLCIlnwy",
        "outputId": "9705d358-8bed-4139-b8c4-2f26112e8eae"
      },
      "outputs": [
        {
          "name": "stdout",
          "output_type": "stream",
          "text": [
            "Search Time: 0.0002 seconds\n"
          ]
        }
      ],
      "source": [
        "import time\n",
        "\n",
        "# Measure search time for a query\n",
        "start_time = time.time()\n",
        "distances, indices = index.search(query_embedding, k)\n",
        "end_time = time.time()\n",
        "\n",
        "\n",
        "print(f\"Search Time: {end_time - start_time:.4f} seconds\")\n"
      ]
    },
    {
      "cell_type": "markdown",
      "metadata": {
        "id": "Jv31N08MSOa3"
      },
      "source": [
        "# **Output**\n",
        "\n",
        "The output will be the time it took to perform the search in seconds. For example, in our case, the output shows:\n",
        "\n",
        "```Search Time: 0.0002 seconds```\n",
        "\n",
        "This indicates that the search for the nearest neighbors took 0.0002 seconds, which is extremely fast, demonstrating the efficiency of the FAISS library for similarity search.\n",
        "\n",
        "## **Use Case:**\n",
        "\n",
        "This code is useful when you need to evaluate how fast the FAISS index is able to search for the nearest neighbors, especially in large datasets.\n",
        "\n",
        "Measuring the time helps in optimizing and tuning the search process for performance, particularly when the size of the dataset increases significantly."
      ]
    }
  ],
  "metadata": {
    "colab": {
      "provenance": [],
      "include_colab_link": true
    },
    "kernelspec": {
      "display_name": "Python 3",
      "name": "python3"
    },
    "language_info": {
      "name": "python"
    },
    "widgets": {
      "application/vnd.jupyter.widget-state+json": {
        "0149da3088454a8eabb21ab9c0f40452": {
          "model_module": "@jupyter-widgets/controls",
          "model_module_version": "1.5.0",
          "model_name": "ProgressStyleModel",
          "state": {
            "_model_module": "@jupyter-widgets/controls",
            "_model_module_version": "1.5.0",
            "_model_name": "ProgressStyleModel",
            "_view_count": null,
            "_view_module": "@jupyter-widgets/base",
            "_view_module_version": "1.2.0",
            "_view_name": "StyleView",
            "bar_color": null,
            "description_width": ""
          }
        },
        "022f310d5ebd439ea28aa1f12b45ffaf": {
          "model_module": "@jupyter-widgets/base",
          "model_module_version": "1.2.0",
          "model_name": "LayoutModel",
          "state": {
            "_model_module": "@jupyter-widgets/base",
            "_model_module_version": "1.2.0",
            "_model_name": "LayoutModel",
            "_view_count": null,
            "_view_module": "@jupyter-widgets/base",
            "_view_module_version": "1.2.0",
            "_view_name": "LayoutView",
            "align_content": null,
            "align_items": null,
            "align_self": null,
            "border": null,
            "bottom": null,
            "display": null,
            "flex": null,
            "flex_flow": null,
            "grid_area": null,
            "grid_auto_columns": null,
            "grid_auto_flow": null,
            "grid_auto_rows": null,
            "grid_column": null,
            "grid_gap": null,
            "grid_row": null,
            "grid_template_areas": null,
            "grid_template_columns": null,
            "grid_template_rows": null,
            "height": null,
            "justify_content": null,
            "justify_items": null,
            "left": null,
            "margin": null,
            "max_height": null,
            "max_width": null,
            "min_height": null,
            "min_width": null,
            "object_fit": null,
            "object_position": null,
            "order": null,
            "overflow": null,
            "overflow_x": null,
            "overflow_y": null,
            "padding": null,
            "right": null,
            "top": null,
            "visibility": null,
            "width": null
          }
        },
        "079ecee6252947328629b3e918cacb4e": {
          "model_module": "@jupyter-widgets/base",
          "model_module_version": "1.2.0",
          "model_name": "LayoutModel",
          "state": {
            "_model_module": "@jupyter-widgets/base",
            "_model_module_version": "1.2.0",
            "_model_name": "LayoutModel",
            "_view_count": null,
            "_view_module": "@jupyter-widgets/base",
            "_view_module_version": "1.2.0",
            "_view_name": "LayoutView",
            "align_content": null,
            "align_items": null,
            "align_self": null,
            "border": null,
            "bottom": null,
            "display": null,
            "flex": null,
            "flex_flow": null,
            "grid_area": null,
            "grid_auto_columns": null,
            "grid_auto_flow": null,
            "grid_auto_rows": null,
            "grid_column": null,
            "grid_gap": null,
            "grid_row": null,
            "grid_template_areas": null,
            "grid_template_columns": null,
            "grid_template_rows": null,
            "height": null,
            "justify_content": null,
            "justify_items": null,
            "left": null,
            "margin": null,
            "max_height": null,
            "max_width": null,
            "min_height": null,
            "min_width": null,
            "object_fit": null,
            "object_position": null,
            "order": null,
            "overflow": null,
            "overflow_x": null,
            "overflow_y": null,
            "padding": null,
            "right": null,
            "top": null,
            "visibility": null,
            "width": null
          }
        },
        "0b19e01e8a5542318cf266d0769856d8": {
          "model_module": "@jupyter-widgets/controls",
          "model_module_version": "1.5.0",
          "model_name": "DescriptionStyleModel",
          "state": {
            "_model_module": "@jupyter-widgets/controls",
            "_model_module_version": "1.5.0",
            "_model_name": "DescriptionStyleModel",
            "_view_count": null,
            "_view_module": "@jupyter-widgets/base",
            "_view_module_version": "1.2.0",
            "_view_name": "StyleView",
            "description_width": ""
          }
        },
        "137101e58eff405c90895893e2d696f0": {
          "model_module": "@jupyter-widgets/controls",
          "model_module_version": "1.5.0",
          "model_name": "ProgressStyleModel",
          "state": {
            "_model_module": "@jupyter-widgets/controls",
            "_model_module_version": "1.5.0",
            "_model_name": "ProgressStyleModel",
            "_view_count": null,
            "_view_module": "@jupyter-widgets/base",
            "_view_module_version": "1.2.0",
            "_view_name": "StyleView",
            "bar_color": null,
            "description_width": ""
          }
        },
        "25638907f2eb466a9a3600da83aac531": {
          "model_module": "@jupyter-widgets/controls",
          "model_module_version": "1.5.0",
          "model_name": "HBoxModel",
          "state": {
            "_dom_classes": [],
            "_model_module": "@jupyter-widgets/controls",
            "_model_module_version": "1.5.0",
            "_model_name": "HBoxModel",
            "_view_count": null,
            "_view_module": "@jupyter-widgets/controls",
            "_view_module_version": "1.5.0",
            "_view_name": "HBoxView",
            "box_style": "",
            "children": [
              "IPY_MODEL_c156be3175ac4d31a4f0add26c2910c5",
              "IPY_MODEL_2c603fbb23504566a25a55b3143a0947",
              "IPY_MODEL_c67084b8b1a74140ba8cf8f341cf6463"
            ],
            "layout": "IPY_MODEL_079ecee6252947328629b3e918cacb4e"
          }
        },
        "2b5e07c89feb4d5c87790295e8307890": {
          "model_module": "@jupyter-widgets/base",
          "model_module_version": "1.2.0",
          "model_name": "LayoutModel",
          "state": {
            "_model_module": "@jupyter-widgets/base",
            "_model_module_version": "1.2.0",
            "_model_name": "LayoutModel",
            "_view_count": null,
            "_view_module": "@jupyter-widgets/base",
            "_view_module_version": "1.2.0",
            "_view_name": "LayoutView",
            "align_content": null,
            "align_items": null,
            "align_self": null,
            "border": null,
            "bottom": null,
            "display": null,
            "flex": null,
            "flex_flow": null,
            "grid_area": null,
            "grid_auto_columns": null,
            "grid_auto_flow": null,
            "grid_auto_rows": null,
            "grid_column": null,
            "grid_gap": null,
            "grid_row": null,
            "grid_template_areas": null,
            "grid_template_columns": null,
            "grid_template_rows": null,
            "height": null,
            "justify_content": null,
            "justify_items": null,
            "left": null,
            "margin": null,
            "max_height": null,
            "max_width": null,
            "min_height": null,
            "min_width": null,
            "object_fit": null,
            "object_position": null,
            "order": null,
            "overflow": null,
            "overflow_x": null,
            "overflow_y": null,
            "padding": null,
            "right": null,
            "top": null,
            "visibility": null,
            "width": null
          }
        },
        "2c603fbb23504566a25a55b3143a0947": {
          "model_module": "@jupyter-widgets/controls",
          "model_module_version": "1.5.0",
          "model_name": "FloatProgressModel",
          "state": {
            "_dom_classes": [],
            "_model_module": "@jupyter-widgets/controls",
            "_model_module_version": "1.5.0",
            "_model_name": "FloatProgressModel",
            "_view_count": null,
            "_view_module": "@jupyter-widgets/controls",
            "_view_module_version": "1.5.0",
            "_view_name": "ProgressView",
            "bar_style": "success",
            "description": "",
            "description_tooltip": null,
            "layout": "IPY_MODEL_c05fd2ea123d4ab8b09752fbdcabb52b",
            "max": 450,
            "min": 0,
            "orientation": "horizontal",
            "style": "IPY_MODEL_0149da3088454a8eabb21ab9c0f40452",
            "value": 450
          }
        },
        "3c50f07f46484f8287829941b164455a": {
          "model_module": "@jupyter-widgets/base",
          "model_module_version": "1.2.0",
          "model_name": "LayoutModel",
          "state": {
            "_model_module": "@jupyter-widgets/base",
            "_model_module_version": "1.2.0",
            "_model_name": "LayoutModel",
            "_view_count": null,
            "_view_module": "@jupyter-widgets/base",
            "_view_module_version": "1.2.0",
            "_view_name": "LayoutView",
            "align_content": null,
            "align_items": null,
            "align_self": null,
            "border": null,
            "bottom": null,
            "display": null,
            "flex": null,
            "flex_flow": null,
            "grid_area": null,
            "grid_auto_columns": null,
            "grid_auto_flow": null,
            "grid_auto_rows": null,
            "grid_column": null,
            "grid_gap": null,
            "grid_row": null,
            "grid_template_areas": null,
            "grid_template_columns": null,
            "grid_template_rows": null,
            "height": null,
            "justify_content": null,
            "justify_items": null,
            "left": null,
            "margin": null,
            "max_height": null,
            "max_width": null,
            "min_height": null,
            "min_width": null,
            "object_fit": null,
            "object_position": null,
            "order": null,
            "overflow": null,
            "overflow_x": null,
            "overflow_y": null,
            "padding": null,
            "right": null,
            "top": null,
            "visibility": null,
            "width": "20px"
          }
        },
        "4017791fdfcc41f1accfe3d606c0dc15": {
          "model_module": "@jupyter-widgets/controls",
          "model_module_version": "1.5.0",
          "model_name": "FloatProgressModel",
          "state": {
            "_dom_classes": [],
            "_model_module": "@jupyter-widgets/controls",
            "_model_module_version": "1.5.0",
            "_model_name": "FloatProgressModel",
            "_view_count": null,
            "_view_module": "@jupyter-widgets/controls",
            "_view_module_version": "1.5.0",
            "_view_name": "ProgressView",
            "bar_style": "success",
            "description": "",
            "description_tooltip": null,
            "layout": "IPY_MODEL_3c50f07f46484f8287829941b164455a",
            "max": 1,
            "min": 0,
            "orientation": "horizontal",
            "style": "IPY_MODEL_137101e58eff405c90895893e2d696f0",
            "value": 1
          }
        },
        "476ddb909d5e4e7bbc4b91b619358830": {
          "model_module": "@jupyter-widgets/controls",
          "model_module_version": "1.5.0",
          "model_name": "HBoxModel",
          "state": {
            "_dom_classes": [],
            "_model_module": "@jupyter-widgets/controls",
            "_model_module_version": "1.5.0",
            "_model_name": "HBoxModel",
            "_view_count": null,
            "_view_module": "@jupyter-widgets/controls",
            "_view_module_version": "1.5.0",
            "_view_name": "HBoxView",
            "box_style": "",
            "children": [
              "IPY_MODEL_77354eb2367e4df3ab5a1911e592b980",
              "IPY_MODEL_ee8729ad850d4d4c824485c5188b2aeb",
              "IPY_MODEL_98b716e6b3d54b448bc0fe7f593e9bd3"
            ],
            "layout": "IPY_MODEL_022f310d5ebd439ea28aa1f12b45ffaf"
          }
        },
        "49dddf1e75614bc49ba34bb8f17f9c06": {
          "model_module": "@jupyter-widgets/controls",
          "model_module_version": "1.5.0",
          "model_name": "DescriptionStyleModel",
          "state": {
            "_model_module": "@jupyter-widgets/controls",
            "_model_module_version": "1.5.0",
            "_model_name": "DescriptionStyleModel",
            "_view_count": null,
            "_view_module": "@jupyter-widgets/base",
            "_view_module_version": "1.2.0",
            "_view_name": "StyleView",
            "description_width": ""
          }
        },
        "5302ca2eb4394e08b7367e8afd558607": {
          "model_module": "@jupyter-widgets/controls",
          "model_module_version": "1.5.0",
          "model_name": "DescriptionStyleModel",
          "state": {
            "_model_module": "@jupyter-widgets/controls",
            "_model_module_version": "1.5.0",
            "_model_name": "DescriptionStyleModel",
            "_view_count": null,
            "_view_module": "@jupyter-widgets/base",
            "_view_module_version": "1.2.0",
            "_view_name": "StyleView",
            "description_width": ""
          }
        },
        "54afe186f1d44d79b1e471f599f3f15d": {
          "model_module": "@jupyter-widgets/base",
          "model_module_version": "1.2.0",
          "model_name": "LayoutModel",
          "state": {
            "_model_module": "@jupyter-widgets/base",
            "_model_module_version": "1.2.0",
            "_model_name": "LayoutModel",
            "_view_count": null,
            "_view_module": "@jupyter-widgets/base",
            "_view_module_version": "1.2.0",
            "_view_name": "LayoutView",
            "align_content": null,
            "align_items": null,
            "align_self": null,
            "border": null,
            "bottom": null,
            "display": null,
            "flex": null,
            "flex_flow": null,
            "grid_area": null,
            "grid_auto_columns": null,
            "grid_auto_flow": null,
            "grid_auto_rows": null,
            "grid_column": null,
            "grid_gap": null,
            "grid_row": null,
            "grid_template_areas": null,
            "grid_template_columns": null,
            "grid_template_rows": null,
            "height": null,
            "justify_content": null,
            "justify_items": null,
            "left": null,
            "margin": null,
            "max_height": null,
            "max_width": null,
            "min_height": null,
            "min_width": null,
            "object_fit": null,
            "object_position": null,
            "order": null,
            "overflow": null,
            "overflow_x": null,
            "overflow_y": null,
            "padding": null,
            "right": null,
            "top": null,
            "visibility": null,
            "width": null
          }
        },
        "56c56ae216c4461bac986c8ed9c7974e": {
          "model_module": "@jupyter-widgets/base",
          "model_module_version": "1.2.0",
          "model_name": "LayoutModel",
          "state": {
            "_model_module": "@jupyter-widgets/base",
            "_model_module_version": "1.2.0",
            "_model_name": "LayoutModel",
            "_view_count": null,
            "_view_module": "@jupyter-widgets/base",
            "_view_module_version": "1.2.0",
            "_view_name": "LayoutView",
            "align_content": null,
            "align_items": null,
            "align_self": null,
            "border": null,
            "bottom": null,
            "display": null,
            "flex": null,
            "flex_flow": null,
            "grid_area": null,
            "grid_auto_columns": null,
            "grid_auto_flow": null,
            "grid_auto_rows": null,
            "grid_column": null,
            "grid_gap": null,
            "grid_row": null,
            "grid_template_areas": null,
            "grid_template_columns": null,
            "grid_template_rows": null,
            "height": null,
            "justify_content": null,
            "justify_items": null,
            "left": null,
            "margin": null,
            "max_height": null,
            "max_width": null,
            "min_height": null,
            "min_width": null,
            "object_fit": null,
            "object_position": null,
            "order": null,
            "overflow": null,
            "overflow_x": null,
            "overflow_y": null,
            "padding": null,
            "right": null,
            "top": null,
            "visibility": null,
            "width": null
          }
        },
        "6852b43bc3f84d84ad8c8e8c6038971d": {
          "model_module": "@jupyter-widgets/base",
          "model_module_version": "1.2.0",
          "model_name": "LayoutModel",
          "state": {
            "_model_module": "@jupyter-widgets/base",
            "_model_module_version": "1.2.0",
            "_model_name": "LayoutModel",
            "_view_count": null,
            "_view_module": "@jupyter-widgets/base",
            "_view_module_version": "1.2.0",
            "_view_name": "LayoutView",
            "align_content": null,
            "align_items": null,
            "align_self": null,
            "border": null,
            "bottom": null,
            "display": null,
            "flex": null,
            "flex_flow": null,
            "grid_area": null,
            "grid_auto_columns": null,
            "grid_auto_flow": null,
            "grid_auto_rows": null,
            "grid_column": null,
            "grid_gap": null,
            "grid_row": null,
            "grid_template_areas": null,
            "grid_template_columns": null,
            "grid_template_rows": null,
            "height": null,
            "justify_content": null,
            "justify_items": null,
            "left": null,
            "margin": null,
            "max_height": null,
            "max_width": null,
            "min_height": null,
            "min_width": null,
            "object_fit": null,
            "object_position": null,
            "order": null,
            "overflow": null,
            "overflow_x": null,
            "overflow_y": null,
            "padding": null,
            "right": null,
            "top": null,
            "visibility": null,
            "width": null
          }
        },
        "6f62230d5cde4b189e243ab263cef923": {
          "model_module": "@jupyter-widgets/controls",
          "model_module_version": "1.5.0",
          "model_name": "HTMLModel",
          "state": {
            "_dom_classes": [],
            "_model_module": "@jupyter-widgets/controls",
            "_model_module_version": "1.5.0",
            "_model_name": "HTMLModel",
            "_view_count": null,
            "_view_module": "@jupyter-widgets/controls",
            "_view_module_version": "1.5.0",
            "_view_name": "HTMLView",
            "description": "",
            "description_tooltip": null,
            "layout": "IPY_MODEL_784277a8311b4ea1a66bcd94e93ab1db",
            "placeholder": "​",
            "style": "IPY_MODEL_97a952dc75a04cc58c7a5673d48f24ef",
            "value": "vocab.txt: "
          }
        },
        "77354eb2367e4df3ab5a1911e592b980": {
          "model_module": "@jupyter-widgets/controls",
          "model_module_version": "1.5.0",
          "model_name": "HTMLModel",
          "state": {
            "_dom_classes": [],
            "_model_module": "@jupyter-widgets/controls",
            "_model_module_version": "1.5.0",
            "_model_name": "HTMLModel",
            "_view_count": null,
            "_view_module": "@jupyter-widgets/controls",
            "_view_module_version": "1.5.0",
            "_view_name": "HTMLView",
            "description": "",
            "description_tooltip": null,
            "layout": "IPY_MODEL_cee64317bbff4094b7b4b6438fe40a5e",
            "placeholder": "​",
            "style": "IPY_MODEL_97e40e62c58e47dba35f9552acda85a2",
            "value": "tokenizer.json: "
          }
        },
        "784277a8311b4ea1a66bcd94e93ab1db": {
          "model_module": "@jupyter-widgets/base",
          "model_module_version": "1.2.0",
          "model_name": "LayoutModel",
          "state": {
            "_model_module": "@jupyter-widgets/base",
            "_model_module_version": "1.2.0",
            "_model_name": "LayoutModel",
            "_view_count": null,
            "_view_module": "@jupyter-widgets/base",
            "_view_module_version": "1.2.0",
            "_view_name": "LayoutView",
            "align_content": null,
            "align_items": null,
            "align_self": null,
            "border": null,
            "bottom": null,
            "display": null,
            "flex": null,
            "flex_flow": null,
            "grid_area": null,
            "grid_auto_columns": null,
            "grid_auto_flow": null,
            "grid_auto_rows": null,
            "grid_column": null,
            "grid_gap": null,
            "grid_row": null,
            "grid_template_areas": null,
            "grid_template_columns": null,
            "grid_template_rows": null,
            "height": null,
            "justify_content": null,
            "justify_items": null,
            "left": null,
            "margin": null,
            "max_height": null,
            "max_width": null,
            "min_height": null,
            "min_width": null,
            "object_fit": null,
            "object_position": null,
            "order": null,
            "overflow": null,
            "overflow_x": null,
            "overflow_y": null,
            "padding": null,
            "right": null,
            "top": null,
            "visibility": null,
            "width": null
          }
        },
        "7a51e79f48f943a49c5d206000832333": {
          "model_module": "@jupyter-widgets/controls",
          "model_module_version": "1.5.0",
          "model_name": "HTMLModel",
          "state": {
            "_dom_classes": [],
            "_model_module": "@jupyter-widgets/controls",
            "_model_module_version": "1.5.0",
            "_model_name": "HTMLModel",
            "_view_count": null,
            "_view_module": "@jupyter-widgets/controls",
            "_view_module_version": "1.5.0",
            "_view_name": "HTMLView",
            "description": "",
            "description_tooltip": null,
            "layout": "IPY_MODEL_56c56ae216c4461bac986c8ed9c7974e",
            "placeholder": "​",
            "style": "IPY_MODEL_0b19e01e8a5542318cf266d0769856d8",
            "value": "config.json: 100%"
          }
        },
        "7e9060a77892479e9d81e045bc6c4cb2": {
          "model_module": "@jupyter-widgets/controls",
          "model_module_version": "1.5.0",
          "model_name": "DescriptionStyleModel",
          "state": {
            "_model_module": "@jupyter-widgets/controls",
            "_model_module_version": "1.5.0",
            "_model_name": "DescriptionStyleModel",
            "_view_count": null,
            "_view_module": "@jupyter-widgets/base",
            "_view_module_version": "1.2.0",
            "_view_name": "StyleView",
            "description_width": ""
          }
        },
        "813c8ab9c27b4dd6ae27d0a652543477": {
          "model_module": "@jupyter-widgets/base",
          "model_module_version": "1.2.0",
          "model_name": "LayoutModel",
          "state": {
            "_model_module": "@jupyter-widgets/base",
            "_model_module_version": "1.2.0",
            "_model_name": "LayoutModel",
            "_view_count": null,
            "_view_module": "@jupyter-widgets/base",
            "_view_module_version": "1.2.0",
            "_view_name": "LayoutView",
            "align_content": null,
            "align_items": null,
            "align_self": null,
            "border": null,
            "bottom": null,
            "display": null,
            "flex": null,
            "flex_flow": null,
            "grid_area": null,
            "grid_auto_columns": null,
            "grid_auto_flow": null,
            "grid_auto_rows": null,
            "grid_column": null,
            "grid_gap": null,
            "grid_row": null,
            "grid_template_areas": null,
            "grid_template_columns": null,
            "grid_template_rows": null,
            "height": null,
            "justify_content": null,
            "justify_items": null,
            "left": null,
            "margin": null,
            "max_height": null,
            "max_width": null,
            "min_height": null,
            "min_width": null,
            "object_fit": null,
            "object_position": null,
            "order": null,
            "overflow": null,
            "overflow_x": null,
            "overflow_y": null,
            "padding": null,
            "right": null,
            "top": null,
            "visibility": null,
            "width": null
          }
        },
        "87a9c78bd5ca4449b34674bbeef81e4f": {
          "model_module": "@jupyter-widgets/base",
          "model_module_version": "1.2.0",
          "model_name": "LayoutModel",
          "state": {
            "_model_module": "@jupyter-widgets/base",
            "_model_module_version": "1.2.0",
            "_model_name": "LayoutModel",
            "_view_count": null,
            "_view_module": "@jupyter-widgets/base",
            "_view_module_version": "1.2.0",
            "_view_name": "LayoutView",
            "align_content": null,
            "align_items": null,
            "align_self": null,
            "border": null,
            "bottom": null,
            "display": null,
            "flex": null,
            "flex_flow": null,
            "grid_area": null,
            "grid_auto_columns": null,
            "grid_auto_flow": null,
            "grid_auto_rows": null,
            "grid_column": null,
            "grid_gap": null,
            "grid_row": null,
            "grid_template_areas": null,
            "grid_template_columns": null,
            "grid_template_rows": null,
            "height": null,
            "justify_content": null,
            "justify_items": null,
            "left": null,
            "margin": null,
            "max_height": null,
            "max_width": null,
            "min_height": null,
            "min_width": null,
            "object_fit": null,
            "object_position": null,
            "order": null,
            "overflow": null,
            "overflow_x": null,
            "overflow_y": null,
            "padding": null,
            "right": null,
            "top": null,
            "visibility": null,
            "width": null
          }
        },
        "87f96f8f1d19476e89e05a7deb8e3553": {
          "model_module": "@jupyter-widgets/controls",
          "model_module_version": "1.5.0",
          "model_name": "HTMLModel",
          "state": {
            "_dom_classes": [],
            "_model_module": "@jupyter-widgets/controls",
            "_model_module_version": "1.5.0",
            "_model_name": "HTMLModel",
            "_view_count": null,
            "_view_module": "@jupyter-widgets/controls",
            "_view_module_version": "1.5.0",
            "_view_name": "HTMLView",
            "description": "",
            "description_tooltip": null,
            "layout": "IPY_MODEL_a6c3c70b7b674bf69b46b29c8920bd3e",
            "placeholder": "​",
            "style": "IPY_MODEL_df273565111c47a1afcff37f4e8d6d04",
            "value": " 232k/? [00:00&lt;00:00, 9.22MB/s]"
          }
        },
        "8846dc604d754c759aad98f4eb23846c": {
          "model_module": "@jupyter-widgets/base",
          "model_module_version": "1.2.0",
          "model_name": "LayoutModel",
          "state": {
            "_model_module": "@jupyter-widgets/base",
            "_model_module_version": "1.2.0",
            "_model_name": "LayoutModel",
            "_view_count": null,
            "_view_module": "@jupyter-widgets/base",
            "_view_module_version": "1.2.0",
            "_view_name": "LayoutView",
            "align_content": null,
            "align_items": null,
            "align_self": null,
            "border": null,
            "bottom": null,
            "display": null,
            "flex": null,
            "flex_flow": null,
            "grid_area": null,
            "grid_auto_columns": null,
            "grid_auto_flow": null,
            "grid_auto_rows": null,
            "grid_column": null,
            "grid_gap": null,
            "grid_row": null,
            "grid_template_areas": null,
            "grid_template_columns": null,
            "grid_template_rows": null,
            "height": null,
            "justify_content": null,
            "justify_items": null,
            "left": null,
            "margin": null,
            "max_height": null,
            "max_width": null,
            "min_height": null,
            "min_width": null,
            "object_fit": null,
            "object_position": null,
            "order": null,
            "overflow": null,
            "overflow_x": null,
            "overflow_y": null,
            "padding": null,
            "right": null,
            "top": null,
            "visibility": null,
            "width": null
          }
        },
        "8a2f7db34ece476c84a1d0238ce1c487": {
          "model_module": "@jupyter-widgets/controls",
          "model_module_version": "1.5.0",
          "model_name": "DescriptionStyleModel",
          "state": {
            "_model_module": "@jupyter-widgets/controls",
            "_model_module_version": "1.5.0",
            "_model_name": "DescriptionStyleModel",
            "_view_count": null,
            "_view_module": "@jupyter-widgets/base",
            "_view_module_version": "1.2.0",
            "_view_name": "StyleView",
            "description_width": ""
          }
        },
        "90045fef25264efc8c5346e812ef49ce": {
          "model_module": "@jupyter-widgets/controls",
          "model_module_version": "1.5.0",
          "model_name": "HBoxModel",
          "state": {
            "_dom_classes": [],
            "_model_module": "@jupyter-widgets/controls",
            "_model_module_version": "1.5.0",
            "_model_name": "HBoxModel",
            "_view_count": null,
            "_view_module": "@jupyter-widgets/controls",
            "_view_module_version": "1.5.0",
            "_view_name": "HBoxView",
            "box_style": "",
            "children": [
              "IPY_MODEL_7a51e79f48f943a49c5d206000832333",
              "IPY_MODEL_9eff7ba6482c4aef9fc890d94950ab89",
              "IPY_MODEL_979605167eb5409292941f7af6833f66"
            ],
            "layout": "IPY_MODEL_efb6c22d05eb424b9590715ff520cc90"
          }
        },
        "91172daade0f45af9fbadcb2a9d39e18": {
          "model_module": "@jupyter-widgets/base",
          "model_module_version": "1.2.0",
          "model_name": "LayoutModel",
          "state": {
            "_model_module": "@jupyter-widgets/base",
            "_model_module_version": "1.2.0",
            "_model_name": "LayoutModel",
            "_view_count": null,
            "_view_module": "@jupyter-widgets/base",
            "_view_module_version": "1.2.0",
            "_view_name": "LayoutView",
            "align_content": null,
            "align_items": null,
            "align_self": null,
            "border": null,
            "bottom": null,
            "display": null,
            "flex": null,
            "flex_flow": null,
            "grid_area": null,
            "grid_auto_columns": null,
            "grid_auto_flow": null,
            "grid_auto_rows": null,
            "grid_column": null,
            "grid_gap": null,
            "grid_row": null,
            "grid_template_areas": null,
            "grid_template_columns": null,
            "grid_template_rows": null,
            "height": null,
            "justify_content": null,
            "justify_items": null,
            "left": null,
            "margin": null,
            "max_height": null,
            "max_width": null,
            "min_height": null,
            "min_width": null,
            "object_fit": null,
            "object_position": null,
            "order": null,
            "overflow": null,
            "overflow_x": null,
            "overflow_y": null,
            "padding": null,
            "right": null,
            "top": null,
            "visibility": null,
            "width": null
          }
        },
        "91195a426329489eb12198d13ac98172": {
          "model_module": "@jupyter-widgets/controls",
          "model_module_version": "1.5.0",
          "model_name": "DescriptionStyleModel",
          "state": {
            "_model_module": "@jupyter-widgets/controls",
            "_model_module_version": "1.5.0",
            "_model_name": "DescriptionStyleModel",
            "_view_count": null,
            "_view_module": "@jupyter-widgets/base",
            "_view_module_version": "1.2.0",
            "_view_name": "StyleView",
            "description_width": ""
          }
        },
        "979605167eb5409292941f7af6833f66": {
          "model_module": "@jupyter-widgets/controls",
          "model_module_version": "1.5.0",
          "model_name": "HTMLModel",
          "state": {
            "_dom_classes": [],
            "_model_module": "@jupyter-widgets/controls",
            "_model_module_version": "1.5.0",
            "_model_name": "HTMLModel",
            "_view_count": null,
            "_view_module": "@jupyter-widgets/controls",
            "_view_module_version": "1.5.0",
            "_view_name": "HTMLView",
            "description": "",
            "description_tooltip": null,
            "layout": "IPY_MODEL_e197babe0c68463693907ead4b9f7b02",
            "placeholder": "​",
            "style": "IPY_MODEL_f6355af14e9c4685a2764423f6ad104d",
            "value": " 550/550 [00:00&lt;00:00, 70.6kB/s]"
          }
        },
        "97a952dc75a04cc58c7a5673d48f24ef": {
          "model_module": "@jupyter-widgets/controls",
          "model_module_version": "1.5.0",
          "model_name": "DescriptionStyleModel",
          "state": {
            "_model_module": "@jupyter-widgets/controls",
            "_model_module_version": "1.5.0",
            "_model_name": "DescriptionStyleModel",
            "_view_count": null,
            "_view_module": "@jupyter-widgets/base",
            "_view_module_version": "1.2.0",
            "_view_name": "StyleView",
            "description_width": ""
          }
        },
        "97e40e62c58e47dba35f9552acda85a2": {
          "model_module": "@jupyter-widgets/controls",
          "model_module_version": "1.5.0",
          "model_name": "DescriptionStyleModel",
          "state": {
            "_model_module": "@jupyter-widgets/controls",
            "_model_module_version": "1.5.0",
            "_model_name": "DescriptionStyleModel",
            "_view_count": null,
            "_view_module": "@jupyter-widgets/base",
            "_view_module_version": "1.2.0",
            "_view_name": "StyleView",
            "description_width": ""
          }
        },
        "98b716e6b3d54b448bc0fe7f593e9bd3": {
          "model_module": "@jupyter-widgets/controls",
          "model_module_version": "1.5.0",
          "model_name": "HTMLModel",
          "state": {
            "_dom_classes": [],
            "_model_module": "@jupyter-widgets/controls",
            "_model_module_version": "1.5.0",
            "_model_name": "HTMLModel",
            "_view_count": null,
            "_view_module": "@jupyter-widgets/controls",
            "_view_module_version": "1.5.0",
            "_view_name": "HTMLView",
            "description": "",
            "description_tooltip": null,
            "layout": "IPY_MODEL_d8981cf09f0b40e1a1f746aa2a7049ee",
            "placeholder": "​",
            "style": "IPY_MODEL_7e9060a77892479e9d81e045bc6c4cb2",
            "value": " 466k/? [00:00&lt;00:00, 23.5MB/s]"
          }
        },
        "9eff7ba6482c4aef9fc890d94950ab89": {
          "model_module": "@jupyter-widgets/controls",
          "model_module_version": "1.5.0",
          "model_name": "FloatProgressModel",
          "state": {
            "_dom_classes": [],
            "_model_module": "@jupyter-widgets/controls",
            "_model_module_version": "1.5.0",
            "_model_name": "FloatProgressModel",
            "_view_count": null,
            "_view_module": "@jupyter-widgets/controls",
            "_view_module_version": "1.5.0",
            "_view_name": "ProgressView",
            "bar_style": "success",
            "description": "",
            "description_tooltip": null,
            "layout": "IPY_MODEL_c83b19dc2e0441e6a55bb0bf8acff52f",
            "max": 550,
            "min": 0,
            "orientation": "horizontal",
            "style": "IPY_MODEL_c3ceea94ef7d42768a52f8f318f071b4",
            "value": 550
          }
        },
        "a31abf6a502d459fb210c687e755c0d6": {
          "model_module": "@jupyter-widgets/controls",
          "model_module_version": "1.5.0",
          "model_name": "ProgressStyleModel",
          "state": {
            "_model_module": "@jupyter-widgets/controls",
            "_model_module_version": "1.5.0",
            "_model_name": "ProgressStyleModel",
            "_view_count": null,
            "_view_module": "@jupyter-widgets/base",
            "_view_module_version": "1.2.0",
            "_view_name": "StyleView",
            "bar_color": null,
            "description_width": ""
          }
        },
        "a6c3c70b7b674bf69b46b29c8920bd3e": {
          "model_module": "@jupyter-widgets/base",
          "model_module_version": "1.2.0",
          "model_name": "LayoutModel",
          "state": {
            "_model_module": "@jupyter-widgets/base",
            "_model_module_version": "1.2.0",
            "_model_name": "LayoutModel",
            "_view_count": null,
            "_view_module": "@jupyter-widgets/base",
            "_view_module_version": "1.2.0",
            "_view_name": "LayoutView",
            "align_content": null,
            "align_items": null,
            "align_self": null,
            "border": null,
            "bottom": null,
            "display": null,
            "flex": null,
            "flex_flow": null,
            "grid_area": null,
            "grid_auto_columns": null,
            "grid_auto_flow": null,
            "grid_auto_rows": null,
            "grid_column": null,
            "grid_gap": null,
            "grid_row": null,
            "grid_template_areas": null,
            "grid_template_columns": null,
            "grid_template_rows": null,
            "height": null,
            "justify_content": null,
            "justify_items": null,
            "left": null,
            "margin": null,
            "max_height": null,
            "max_width": null,
            "min_height": null,
            "min_width": null,
            "object_fit": null,
            "object_position": null,
            "order": null,
            "overflow": null,
            "overflow_x": null,
            "overflow_y": null,
            "padding": null,
            "right": null,
            "top": null,
            "visibility": null,
            "width": null
          }
        },
        "a8faaadc42234f8ea3325116729803ac": {
          "model_module": "@jupyter-widgets/base",
          "model_module_version": "1.2.0",
          "model_name": "LayoutModel",
          "state": {
            "_model_module": "@jupyter-widgets/base",
            "_model_module_version": "1.2.0",
            "_model_name": "LayoutModel",
            "_view_count": null,
            "_view_module": "@jupyter-widgets/base",
            "_view_module_version": "1.2.0",
            "_view_name": "LayoutView",
            "align_content": null,
            "align_items": null,
            "align_self": null,
            "border": null,
            "bottom": null,
            "display": null,
            "flex": null,
            "flex_flow": null,
            "grid_area": null,
            "grid_auto_columns": null,
            "grid_auto_flow": null,
            "grid_auto_rows": null,
            "grid_column": null,
            "grid_gap": null,
            "grid_row": null,
            "grid_template_areas": null,
            "grid_template_columns": null,
            "grid_template_rows": null,
            "height": null,
            "justify_content": null,
            "justify_items": null,
            "left": null,
            "margin": null,
            "max_height": null,
            "max_width": null,
            "min_height": null,
            "min_width": null,
            "object_fit": null,
            "object_position": null,
            "order": null,
            "overflow": null,
            "overflow_x": null,
            "overflow_y": null,
            "padding": null,
            "right": null,
            "top": null,
            "visibility": null,
            "width": null
          }
        },
        "ae20b96908334b0ab1ac755ab2bbb3a0": {
          "model_module": "@jupyter-widgets/controls",
          "model_module_version": "1.5.0",
          "model_name": "HBoxModel",
          "state": {
            "_dom_classes": [],
            "_model_module": "@jupyter-widgets/controls",
            "_model_module_version": "1.5.0",
            "_model_name": "HBoxModel",
            "_view_count": null,
            "_view_module": "@jupyter-widgets/controls",
            "_view_module_version": "1.5.0",
            "_view_name": "HBoxView",
            "box_style": "",
            "children": [
              "IPY_MODEL_b49ec3868d9b4b36bca9a03079b8bae2",
              "IPY_MODEL_f94e8ee24f684ed9a6996877a32faca1",
              "IPY_MODEL_dccb836b7beb4efeba86dbadf06633c1"
            ],
            "layout": "IPY_MODEL_a8faaadc42234f8ea3325116729803ac"
          }
        },
        "b12e0be9b1b840658424e9173a40b77d": {
          "model_module": "@jupyter-widgets/controls",
          "model_module_version": "1.5.0",
          "model_name": "HBoxModel",
          "state": {
            "_dom_classes": [],
            "_model_module": "@jupyter-widgets/controls",
            "_model_module_version": "1.5.0",
            "_model_name": "HBoxModel",
            "_view_count": null,
            "_view_module": "@jupyter-widgets/controls",
            "_view_module_version": "1.5.0",
            "_view_name": "HBoxView",
            "box_style": "",
            "children": [
              "IPY_MODEL_e5210b39d04d45c08d52a99e57e1578c",
              "IPY_MODEL_c236660bd218457da8acfb0892bfbf34",
              "IPY_MODEL_e5768991a7d848cea9e687785e12d698"
            ],
            "layout": "IPY_MODEL_54afe186f1d44d79b1e471f599f3f15d"
          }
        },
        "b49ec3868d9b4b36bca9a03079b8bae2": {
          "model_module": "@jupyter-widgets/controls",
          "model_module_version": "1.5.0",
          "model_name": "HTMLModel",
          "state": {
            "_dom_classes": [],
            "_model_module": "@jupyter-widgets/controls",
            "_model_module_version": "1.5.0",
            "_model_name": "HTMLModel",
            "_view_count": null,
            "_view_module": "@jupyter-widgets/controls",
            "_view_module_version": "1.5.0",
            "_view_name": "HTMLView",
            "description": "",
            "description_tooltip": null,
            "layout": "IPY_MODEL_bf5566582b8041f4bd6d3f226dc3b808",
            "placeholder": "​",
            "style": "IPY_MODEL_e15bdbf352c7438190c0d59b72d90c91",
            "value": "special_tokens_map.json: 100%"
          }
        },
        "b5aa8790f1ef402a8ca00bc561ee11b9": {
          "model_module": "@jupyter-widgets/controls",
          "model_module_version": "1.5.0",
          "model_name": "DescriptionStyleModel",
          "state": {
            "_model_module": "@jupyter-widgets/controls",
            "_model_module_version": "1.5.0",
            "_model_name": "DescriptionStyleModel",
            "_view_count": null,
            "_view_module": "@jupyter-widgets/base",
            "_view_module_version": "1.2.0",
            "_view_name": "StyleView",
            "description_width": ""
          }
        },
        "be05539bd07945608efd2d0789ba611e": {
          "model_module": "@jupyter-widgets/controls",
          "model_module_version": "1.5.0",
          "model_name": "ProgressStyleModel",
          "state": {
            "_model_module": "@jupyter-widgets/controls",
            "_model_module_version": "1.5.0",
            "_model_name": "ProgressStyleModel",
            "_view_count": null,
            "_view_module": "@jupyter-widgets/base",
            "_view_module_version": "1.2.0",
            "_view_name": "StyleView",
            "bar_color": null,
            "description_width": ""
          }
        },
        "bf5566582b8041f4bd6d3f226dc3b808": {
          "model_module": "@jupyter-widgets/base",
          "model_module_version": "1.2.0",
          "model_name": "LayoutModel",
          "state": {
            "_model_module": "@jupyter-widgets/base",
            "_model_module_version": "1.2.0",
            "_model_name": "LayoutModel",
            "_view_count": null,
            "_view_module": "@jupyter-widgets/base",
            "_view_module_version": "1.2.0",
            "_view_name": "LayoutView",
            "align_content": null,
            "align_items": null,
            "align_self": null,
            "border": null,
            "bottom": null,
            "display": null,
            "flex": null,
            "flex_flow": null,
            "grid_area": null,
            "grid_auto_columns": null,
            "grid_auto_flow": null,
            "grid_auto_rows": null,
            "grid_column": null,
            "grid_gap": null,
            "grid_row": null,
            "grid_template_areas": null,
            "grid_template_columns": null,
            "grid_template_rows": null,
            "height": null,
            "justify_content": null,
            "justify_items": null,
            "left": null,
            "margin": null,
            "max_height": null,
            "max_width": null,
            "min_height": null,
            "min_width": null,
            "object_fit": null,
            "object_position": null,
            "order": null,
            "overflow": null,
            "overflow_x": null,
            "overflow_y": null,
            "padding": null,
            "right": null,
            "top": null,
            "visibility": null,
            "width": null
          }
        },
        "c05fd2ea123d4ab8b09752fbdcabb52b": {
          "model_module": "@jupyter-widgets/base",
          "model_module_version": "1.2.0",
          "model_name": "LayoutModel",
          "state": {
            "_model_module": "@jupyter-widgets/base",
            "_model_module_version": "1.2.0",
            "_model_name": "LayoutModel",
            "_view_count": null,
            "_view_module": "@jupyter-widgets/base",
            "_view_module_version": "1.2.0",
            "_view_name": "LayoutView",
            "align_content": null,
            "align_items": null,
            "align_self": null,
            "border": null,
            "bottom": null,
            "display": null,
            "flex": null,
            "flex_flow": null,
            "grid_area": null,
            "grid_auto_columns": null,
            "grid_auto_flow": null,
            "grid_auto_rows": null,
            "grid_column": null,
            "grid_gap": null,
            "grid_row": null,
            "grid_template_areas": null,
            "grid_template_columns": null,
            "grid_template_rows": null,
            "height": null,
            "justify_content": null,
            "justify_items": null,
            "left": null,
            "margin": null,
            "max_height": null,
            "max_width": null,
            "min_height": null,
            "min_width": null,
            "object_fit": null,
            "object_position": null,
            "order": null,
            "overflow": null,
            "overflow_x": null,
            "overflow_y": null,
            "padding": null,
            "right": null,
            "top": null,
            "visibility": null,
            "width": null
          }
        },
        "c156be3175ac4d31a4f0add26c2910c5": {
          "model_module": "@jupyter-widgets/controls",
          "model_module_version": "1.5.0",
          "model_name": "HTMLModel",
          "state": {
            "_dom_classes": [],
            "_model_module": "@jupyter-widgets/controls",
            "_model_module_version": "1.5.0",
            "_model_name": "HTMLModel",
            "_view_count": null,
            "_view_module": "@jupyter-widgets/controls",
            "_view_module_version": "1.5.0",
            "_view_name": "HTMLView",
            "description": "",
            "description_tooltip": null,
            "layout": "IPY_MODEL_2b5e07c89feb4d5c87790295e8307890",
            "placeholder": "​",
            "style": "IPY_MODEL_91195a426329489eb12198d13ac98172",
            "value": "tokenizer_config.json: 100%"
          }
        },
        "c236660bd218457da8acfb0892bfbf34": {
          "model_module": "@jupyter-widgets/controls",
          "model_module_version": "1.5.0",
          "model_name": "FloatProgressModel",
          "state": {
            "_dom_classes": [],
            "_model_module": "@jupyter-widgets/controls",
            "_model_module_version": "1.5.0",
            "_model_name": "FloatProgressModel",
            "_view_count": null,
            "_view_module": "@jupyter-widgets/controls",
            "_view_module_version": "1.5.0",
            "_view_name": "ProgressView",
            "bar_style": "success",
            "description": "",
            "description_tooltip": null,
            "layout": "IPY_MODEL_fe5bb9ea282742f5bd48dea60c9cbe7c",
            "max": 265462608,
            "min": 0,
            "orientation": "horizontal",
            "style": "IPY_MODEL_e28cd3a9a9c54dfab27f015b6ac93448",
            "value": 265462608
          }
        },
        "c3ceea94ef7d42768a52f8f318f071b4": {
          "model_module": "@jupyter-widgets/controls",
          "model_module_version": "1.5.0",
          "model_name": "ProgressStyleModel",
          "state": {
            "_model_module": "@jupyter-widgets/controls",
            "_model_module_version": "1.5.0",
            "_model_name": "ProgressStyleModel",
            "_view_count": null,
            "_view_module": "@jupyter-widgets/base",
            "_view_module_version": "1.2.0",
            "_view_name": "StyleView",
            "bar_color": null,
            "description_width": ""
          }
        },
        "c4f730f99d664c4a8db186aae87db164": {
          "model_module": "@jupyter-widgets/base",
          "model_module_version": "1.2.0",
          "model_name": "LayoutModel",
          "state": {
            "_model_module": "@jupyter-widgets/base",
            "_model_module_version": "1.2.0",
            "_model_name": "LayoutModel",
            "_view_count": null,
            "_view_module": "@jupyter-widgets/base",
            "_view_module_version": "1.2.0",
            "_view_name": "LayoutView",
            "align_content": null,
            "align_items": null,
            "align_self": null,
            "border": null,
            "bottom": null,
            "display": null,
            "flex": null,
            "flex_flow": null,
            "grid_area": null,
            "grid_auto_columns": null,
            "grid_auto_flow": null,
            "grid_auto_rows": null,
            "grid_column": null,
            "grid_gap": null,
            "grid_row": null,
            "grid_template_areas": null,
            "grid_template_columns": null,
            "grid_template_rows": null,
            "height": null,
            "justify_content": null,
            "justify_items": null,
            "left": null,
            "margin": null,
            "max_height": null,
            "max_width": null,
            "min_height": null,
            "min_width": null,
            "object_fit": null,
            "object_position": null,
            "order": null,
            "overflow": null,
            "overflow_x": null,
            "overflow_y": null,
            "padding": null,
            "right": null,
            "top": null,
            "visibility": null,
            "width": null
          }
        },
        "c67084b8b1a74140ba8cf8f341cf6463": {
          "model_module": "@jupyter-widgets/controls",
          "model_module_version": "1.5.0",
          "model_name": "HTMLModel",
          "state": {
            "_dom_classes": [],
            "_model_module": "@jupyter-widgets/controls",
            "_model_module_version": "1.5.0",
            "_model_name": "HTMLModel",
            "_view_count": null,
            "_view_module": "@jupyter-widgets/controls",
            "_view_module_version": "1.5.0",
            "_view_name": "HTMLView",
            "description": "",
            "description_tooltip": null,
            "layout": "IPY_MODEL_8846dc604d754c759aad98f4eb23846c",
            "placeholder": "​",
            "style": "IPY_MODEL_b5aa8790f1ef402a8ca00bc561ee11b9",
            "value": " 450/450 [00:00&lt;00:00, 46.8kB/s]"
          }
        },
        "c83b19dc2e0441e6a55bb0bf8acff52f": {
          "model_module": "@jupyter-widgets/base",
          "model_module_version": "1.2.0",
          "model_name": "LayoutModel",
          "state": {
            "_model_module": "@jupyter-widgets/base",
            "_model_module_version": "1.2.0",
            "_model_name": "LayoutModel",
            "_view_count": null,
            "_view_module": "@jupyter-widgets/base",
            "_view_module_version": "1.2.0",
            "_view_name": "LayoutView",
            "align_content": null,
            "align_items": null,
            "align_self": null,
            "border": null,
            "bottom": null,
            "display": null,
            "flex": null,
            "flex_flow": null,
            "grid_area": null,
            "grid_auto_columns": null,
            "grid_auto_flow": null,
            "grid_auto_rows": null,
            "grid_column": null,
            "grid_gap": null,
            "grid_row": null,
            "grid_template_areas": null,
            "grid_template_columns": null,
            "grid_template_rows": null,
            "height": null,
            "justify_content": null,
            "justify_items": null,
            "left": null,
            "margin": null,
            "max_height": null,
            "max_width": null,
            "min_height": null,
            "min_width": null,
            "object_fit": null,
            "object_position": null,
            "order": null,
            "overflow": null,
            "overflow_x": null,
            "overflow_y": null,
            "padding": null,
            "right": null,
            "top": null,
            "visibility": null,
            "width": null
          }
        },
        "cdb6e613863a4d4b8b6ed1b889d2b268": {
          "model_module": "@jupyter-widgets/base",
          "model_module_version": "1.2.0",
          "model_name": "LayoutModel",
          "state": {
            "_model_module": "@jupyter-widgets/base",
            "_model_module_version": "1.2.0",
            "_model_name": "LayoutModel",
            "_view_count": null,
            "_view_module": "@jupyter-widgets/base",
            "_view_module_version": "1.2.0",
            "_view_name": "LayoutView",
            "align_content": null,
            "align_items": null,
            "align_self": null,
            "border": null,
            "bottom": null,
            "display": null,
            "flex": null,
            "flex_flow": null,
            "grid_area": null,
            "grid_auto_columns": null,
            "grid_auto_flow": null,
            "grid_auto_rows": null,
            "grid_column": null,
            "grid_gap": null,
            "grid_row": null,
            "grid_template_areas": null,
            "grid_template_columns": null,
            "grid_template_rows": null,
            "height": null,
            "justify_content": null,
            "justify_items": null,
            "left": null,
            "margin": null,
            "max_height": null,
            "max_width": null,
            "min_height": null,
            "min_width": null,
            "object_fit": null,
            "object_position": null,
            "order": null,
            "overflow": null,
            "overflow_x": null,
            "overflow_y": null,
            "padding": null,
            "right": null,
            "top": null,
            "visibility": null,
            "width": "20px"
          }
        },
        "cee64317bbff4094b7b4b6438fe40a5e": {
          "model_module": "@jupyter-widgets/base",
          "model_module_version": "1.2.0",
          "model_name": "LayoutModel",
          "state": {
            "_model_module": "@jupyter-widgets/base",
            "_model_module_version": "1.2.0",
            "_model_name": "LayoutModel",
            "_view_count": null,
            "_view_module": "@jupyter-widgets/base",
            "_view_module_version": "1.2.0",
            "_view_name": "LayoutView",
            "align_content": null,
            "align_items": null,
            "align_self": null,
            "border": null,
            "bottom": null,
            "display": null,
            "flex": null,
            "flex_flow": null,
            "grid_area": null,
            "grid_auto_columns": null,
            "grid_auto_flow": null,
            "grid_auto_rows": null,
            "grid_column": null,
            "grid_gap": null,
            "grid_row": null,
            "grid_template_areas": null,
            "grid_template_columns": null,
            "grid_template_rows": null,
            "height": null,
            "justify_content": null,
            "justify_items": null,
            "left": null,
            "margin": null,
            "max_height": null,
            "max_width": null,
            "min_height": null,
            "min_width": null,
            "object_fit": null,
            "object_position": null,
            "order": null,
            "overflow": null,
            "overflow_x": null,
            "overflow_y": null,
            "padding": null,
            "right": null,
            "top": null,
            "visibility": null,
            "width": null
          }
        },
        "d8981cf09f0b40e1a1f746aa2a7049ee": {
          "model_module": "@jupyter-widgets/base",
          "model_module_version": "1.2.0",
          "model_name": "LayoutModel",
          "state": {
            "_model_module": "@jupyter-widgets/base",
            "_model_module_version": "1.2.0",
            "_model_name": "LayoutModel",
            "_view_count": null,
            "_view_module": "@jupyter-widgets/base",
            "_view_module_version": "1.2.0",
            "_view_name": "LayoutView",
            "align_content": null,
            "align_items": null,
            "align_self": null,
            "border": null,
            "bottom": null,
            "display": null,
            "flex": null,
            "flex_flow": null,
            "grid_area": null,
            "grid_auto_columns": null,
            "grid_auto_flow": null,
            "grid_auto_rows": null,
            "grid_column": null,
            "grid_gap": null,
            "grid_row": null,
            "grid_template_areas": null,
            "grid_template_columns": null,
            "grid_template_rows": null,
            "height": null,
            "justify_content": null,
            "justify_items": null,
            "left": null,
            "margin": null,
            "max_height": null,
            "max_width": null,
            "min_height": null,
            "min_width": null,
            "object_fit": null,
            "object_position": null,
            "order": null,
            "overflow": null,
            "overflow_x": null,
            "overflow_y": null,
            "padding": null,
            "right": null,
            "top": null,
            "visibility": null,
            "width": null
          }
        },
        "dccb836b7beb4efeba86dbadf06633c1": {
          "model_module": "@jupyter-widgets/controls",
          "model_module_version": "1.5.0",
          "model_name": "HTMLModel",
          "state": {
            "_dom_classes": [],
            "_model_module": "@jupyter-widgets/controls",
            "_model_module_version": "1.5.0",
            "_model_name": "HTMLModel",
            "_view_count": null,
            "_view_module": "@jupyter-widgets/controls",
            "_view_module_version": "1.5.0",
            "_view_name": "HTMLView",
            "description": "",
            "description_tooltip": null,
            "layout": "IPY_MODEL_87a9c78bd5ca4449b34674bbeef81e4f",
            "placeholder": "​",
            "style": "IPY_MODEL_5302ca2eb4394e08b7367e8afd558607",
            "value": " 112/112 [00:00&lt;00:00, 7.72kB/s]"
          }
        },
        "df273565111c47a1afcff37f4e8d6d04": {
          "model_module": "@jupyter-widgets/controls",
          "model_module_version": "1.5.0",
          "model_name": "DescriptionStyleModel",
          "state": {
            "_model_module": "@jupyter-widgets/controls",
            "_model_module_version": "1.5.0",
            "_model_name": "DescriptionStyleModel",
            "_view_count": null,
            "_view_module": "@jupyter-widgets/base",
            "_view_module_version": "1.2.0",
            "_view_name": "StyleView",
            "description_width": ""
          }
        },
        "e15bdbf352c7438190c0d59b72d90c91": {
          "model_module": "@jupyter-widgets/controls",
          "model_module_version": "1.5.0",
          "model_name": "DescriptionStyleModel",
          "state": {
            "_model_module": "@jupyter-widgets/controls",
            "_model_module_version": "1.5.0",
            "_model_name": "DescriptionStyleModel",
            "_view_count": null,
            "_view_module": "@jupyter-widgets/base",
            "_view_module_version": "1.2.0",
            "_view_name": "StyleView",
            "description_width": ""
          }
        },
        "e197babe0c68463693907ead4b9f7b02": {
          "model_module": "@jupyter-widgets/base",
          "model_module_version": "1.2.0",
          "model_name": "LayoutModel",
          "state": {
            "_model_module": "@jupyter-widgets/base",
            "_model_module_version": "1.2.0",
            "_model_name": "LayoutModel",
            "_view_count": null,
            "_view_module": "@jupyter-widgets/base",
            "_view_module_version": "1.2.0",
            "_view_name": "LayoutView",
            "align_content": null,
            "align_items": null,
            "align_self": null,
            "border": null,
            "bottom": null,
            "display": null,
            "flex": null,
            "flex_flow": null,
            "grid_area": null,
            "grid_auto_columns": null,
            "grid_auto_flow": null,
            "grid_auto_rows": null,
            "grid_column": null,
            "grid_gap": null,
            "grid_row": null,
            "grid_template_areas": null,
            "grid_template_columns": null,
            "grid_template_rows": null,
            "height": null,
            "justify_content": null,
            "justify_items": null,
            "left": null,
            "margin": null,
            "max_height": null,
            "max_width": null,
            "min_height": null,
            "min_width": null,
            "object_fit": null,
            "object_position": null,
            "order": null,
            "overflow": null,
            "overflow_x": null,
            "overflow_y": null,
            "padding": null,
            "right": null,
            "top": null,
            "visibility": null,
            "width": null
          }
        },
        "e28cd3a9a9c54dfab27f015b6ac93448": {
          "model_module": "@jupyter-widgets/controls",
          "model_module_version": "1.5.0",
          "model_name": "ProgressStyleModel",
          "state": {
            "_model_module": "@jupyter-widgets/controls",
            "_model_module_version": "1.5.0",
            "_model_name": "ProgressStyleModel",
            "_view_count": null,
            "_view_module": "@jupyter-widgets/base",
            "_view_module_version": "1.2.0",
            "_view_name": "StyleView",
            "bar_color": null,
            "description_width": ""
          }
        },
        "e5210b39d04d45c08d52a99e57e1578c": {
          "model_module": "@jupyter-widgets/controls",
          "model_module_version": "1.5.0",
          "model_name": "HTMLModel",
          "state": {
            "_dom_classes": [],
            "_model_module": "@jupyter-widgets/controls",
            "_model_module_version": "1.5.0",
            "_model_name": "HTMLModel",
            "_view_count": null,
            "_view_module": "@jupyter-widgets/controls",
            "_view_module_version": "1.5.0",
            "_view_name": "HTMLView",
            "description": "",
            "description_tooltip": null,
            "layout": "IPY_MODEL_91172daade0f45af9fbadcb2a9d39e18",
            "placeholder": "​",
            "style": "IPY_MODEL_49dddf1e75614bc49ba34bb8f17f9c06",
            "value": "model.safetensors: 100%"
          }
        },
        "e5768991a7d848cea9e687785e12d698": {
          "model_module": "@jupyter-widgets/controls",
          "model_module_version": "1.5.0",
          "model_name": "HTMLModel",
          "state": {
            "_dom_classes": [],
            "_model_module": "@jupyter-widgets/controls",
            "_model_module_version": "1.5.0",
            "_model_name": "HTMLModel",
            "_view_count": null,
            "_view_module": "@jupyter-widgets/controls",
            "_view_module_version": "1.5.0",
            "_view_name": "HTMLView",
            "description": "",
            "description_tooltip": null,
            "layout": "IPY_MODEL_813c8ab9c27b4dd6ae27d0a652543477",
            "placeholder": "​",
            "style": "IPY_MODEL_8a2f7db34ece476c84a1d0238ce1c487",
            "value": " 265M/265M [00:02&lt;00:00, 131MB/s]"
          }
        },
        "ee8729ad850d4d4c824485c5188b2aeb": {
          "model_module": "@jupyter-widgets/controls",
          "model_module_version": "1.5.0",
          "model_name": "FloatProgressModel",
          "state": {
            "_dom_classes": [],
            "_model_module": "@jupyter-widgets/controls",
            "_model_module_version": "1.5.0",
            "_model_name": "FloatProgressModel",
            "_view_count": null,
            "_view_module": "@jupyter-widgets/controls",
            "_view_module_version": "1.5.0",
            "_view_name": "ProgressView",
            "bar_style": "success",
            "description": "",
            "description_tooltip": null,
            "layout": "IPY_MODEL_cdb6e613863a4d4b8b6ed1b889d2b268",
            "max": 1,
            "min": 0,
            "orientation": "horizontal",
            "style": "IPY_MODEL_a31abf6a502d459fb210c687e755c0d6",
            "value": 1
          }
        },
        "efb6c22d05eb424b9590715ff520cc90": {
          "model_module": "@jupyter-widgets/base",
          "model_module_version": "1.2.0",
          "model_name": "LayoutModel",
          "state": {
            "_model_module": "@jupyter-widgets/base",
            "_model_module_version": "1.2.0",
            "_model_name": "LayoutModel",
            "_view_count": null,
            "_view_module": "@jupyter-widgets/base",
            "_view_module_version": "1.2.0",
            "_view_name": "LayoutView",
            "align_content": null,
            "align_items": null,
            "align_self": null,
            "border": null,
            "bottom": null,
            "display": null,
            "flex": null,
            "flex_flow": null,
            "grid_area": null,
            "grid_auto_columns": null,
            "grid_auto_flow": null,
            "grid_auto_rows": null,
            "grid_column": null,
            "grid_gap": null,
            "grid_row": null,
            "grid_template_areas": null,
            "grid_template_columns": null,
            "grid_template_rows": null,
            "height": null,
            "justify_content": null,
            "justify_items": null,
            "left": null,
            "margin": null,
            "max_height": null,
            "max_width": null,
            "min_height": null,
            "min_width": null,
            "object_fit": null,
            "object_position": null,
            "order": null,
            "overflow": null,
            "overflow_x": null,
            "overflow_y": null,
            "padding": null,
            "right": null,
            "top": null,
            "visibility": null,
            "width": null
          }
        },
        "f6355af14e9c4685a2764423f6ad104d": {
          "model_module": "@jupyter-widgets/controls",
          "model_module_version": "1.5.0",
          "model_name": "DescriptionStyleModel",
          "state": {
            "_model_module": "@jupyter-widgets/controls",
            "_model_module_version": "1.5.0",
            "_model_name": "DescriptionStyleModel",
            "_view_count": null,
            "_view_module": "@jupyter-widgets/base",
            "_view_module_version": "1.2.0",
            "_view_name": "StyleView",
            "description_width": ""
          }
        },
        "f94e8ee24f684ed9a6996877a32faca1": {
          "model_module": "@jupyter-widgets/controls",
          "model_module_version": "1.5.0",
          "model_name": "FloatProgressModel",
          "state": {
            "_dom_classes": [],
            "_model_module": "@jupyter-widgets/controls",
            "_model_module_version": "1.5.0",
            "_model_name": "FloatProgressModel",
            "_view_count": null,
            "_view_module": "@jupyter-widgets/controls",
            "_view_module_version": "1.5.0",
            "_view_name": "ProgressView",
            "bar_style": "success",
            "description": "",
            "description_tooltip": null,
            "layout": "IPY_MODEL_c4f730f99d664c4a8db186aae87db164",
            "max": 112,
            "min": 0,
            "orientation": "horizontal",
            "style": "IPY_MODEL_be05539bd07945608efd2d0789ba611e",
            "value": 112
          }
        },
        "fbf3f1752d694888845e3064b0623f39": {
          "model_module": "@jupyter-widgets/controls",
          "model_module_version": "1.5.0",
          "model_name": "HBoxModel",
          "state": {
            "_dom_classes": [],
            "_model_module": "@jupyter-widgets/controls",
            "_model_module_version": "1.5.0",
            "_model_name": "HBoxModel",
            "_view_count": null,
            "_view_module": "@jupyter-widgets/controls",
            "_view_module_version": "1.5.0",
            "_view_name": "HBoxView",
            "box_style": "",
            "children": [
              "IPY_MODEL_6f62230d5cde4b189e243ab263cef923",
              "IPY_MODEL_4017791fdfcc41f1accfe3d606c0dc15",
              "IPY_MODEL_87f96f8f1d19476e89e05a7deb8e3553"
            ],
            "layout": "IPY_MODEL_6852b43bc3f84d84ad8c8e8c6038971d"
          }
        },
        "fe5bb9ea282742f5bd48dea60c9cbe7c": {
          "model_module": "@jupyter-widgets/base",
          "model_module_version": "1.2.0",
          "model_name": "LayoutModel",
          "state": {
            "_model_module": "@jupyter-widgets/base",
            "_model_module_version": "1.2.0",
            "_model_name": "LayoutModel",
            "_view_count": null,
            "_view_module": "@jupyter-widgets/base",
            "_view_module_version": "1.2.0",
            "_view_name": "LayoutView",
            "align_content": null,
            "align_items": null,
            "align_self": null,
            "border": null,
            "bottom": null,
            "display": null,
            "flex": null,
            "flex_flow": null,
            "grid_area": null,
            "grid_auto_columns": null,
            "grid_auto_flow": null,
            "grid_auto_rows": null,
            "grid_column": null,
            "grid_gap": null,
            "grid_row": null,
            "grid_template_areas": null,
            "grid_template_columns": null,
            "grid_template_rows": null,
            "height": null,
            "justify_content": null,
            "justify_items": null,
            "left": null,
            "margin": null,
            "max_height": null,
            "max_width": null,
            "min_height": null,
            "min_width": null,
            "object_fit": null,
            "object_position": null,
            "order": null,
            "overflow": null,
            "overflow_x": null,
            "overflow_y": null,
            "padding": null,
            "right": null,
            "top": null,
            "visibility": null,
            "width": null
          }
        }
      }
    }
  },
  "nbformat": 4,
  "nbformat_minor": 0
}